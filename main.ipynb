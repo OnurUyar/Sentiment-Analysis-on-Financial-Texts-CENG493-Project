{
 "cells": [
  {
   "cell_type": "code",
   "execution_count": 2,
   "id": "b88c0868-b13a-4377-be73-e59ae3b5b0ff",
   "metadata": {},
   "outputs": [],
   "source": [
    "# Importing required libraries:\n",
    "\n",
    "import zemberek_grpc.language_id_pb2 as z_langid\n",
    "import zemberek_grpc.language_id_pb2_grpc as z_langid_g\n",
    "import zemberek_grpc.normalization_pb2 as z_normalization\n",
    "import zemberek_grpc.normalization_pb2_grpc as z_normalization_g\n",
    "import zemberek_grpc.preprocess_pb2 as z_preprocess\n",
    "import zemberek_grpc.preprocess_pb2_grpc as z_preprocess_g\n",
    "import zemberek_grpc.morphology_pb2 as z_morphology\n",
    "import zemberek_grpc.morphology_pb2_grpc as z_morphology_g\n",
    "import pandas as pd\n",
    "import numpy as np\n",
    "import tensorflow as tf\n",
    "import torch\n",
    "import torch.nn as nn\n",
    "import torch.optim as optim\n",
    "import re\n",
    "import sys\n",
    "import nltk\n",
    "import grpc\n",
    "import string\n",
    "import matplotlib.pyplot as plt\n",
    "import seaborn as sns\n",
    "\n",
    "from nltk.corpus import stopwords\n",
    "from sklearn.utils import resample\n",
    "from gensim.models import Word2Vec\n",
    "from transformers import BertTokenizer, BertForSequenceClassification, Trainer, TrainingArguments, BertModel\n",
    "from tensorflow.keras.models import Sequential\n",
    "from tensorflow.keras.layers import SimpleRNN, LSTM, Bidirectional, Dense, Dropout, Input\n",
    "from tensorflow.keras.preprocessing.sequence import pad_sequences\n",
    "from sklearn.metrics import accuracy_score, precision_score, recall_score, f1_score, precision_recall_fscore_support, confusion_matrix\n",
    "from sklearn.linear_model import LogisticRegression\n",
    "from sklearn.model_selection import train_test_split\n",
    "from sklearn.preprocessing import LabelEncoder\n",
    "from torch.utils.data import DataLoader, TensorDataset"
   ]
  },
  {
   "cell_type": "code",
   "execution_count": 2,
   "id": "a67c07e6-814a-4179-8f96-0646eb879bbd",
   "metadata": {},
   "outputs": [],
   "source": [
    "# Defining functions that perform language detection, tokenization, normalization and morphological analysis\n",
    "# by connecting to ZEMBEREK-GRPC based language processing services\n",
    "\n",
    "channel = grpc.insecure_channel('localhost:6789')\n",
    "\n",
    "langid_stub = z_langid_g.LanguageIdServiceStub(channel)\n",
    "normalization_stub = z_normalization_g.NormalizationServiceStub(channel)\n",
    "preprocess_stub = z_preprocess_g.PreprocessingServiceStub(channel)\n",
    "morphology_stub = z_morphology_g.MorphologyServiceStub(channel)\n",
    "\n",
    "def find_lang_id(i):\n",
    "    response = langid_stub.Detect(z_langid.LanguageIdRequest(input=i))\n",
    "    return response.langId\n",
    "\n",
    "def tokenize(i):\n",
    "    response = preprocess_stub.Tokenize(z_preprocess.TokenizationRequest(input=i))\n",
    "    return response.tokens\n",
    "\n",
    "def normalize(i):\n",
    "    response = normalization_stub.Normalize(z_normalization.NormalizationRequest(input=i))\n",
    "    return response\n",
    "\n",
    "def analyze(i):\n",
    "    response = morphology_stub.AnalyzeSentence(z_morphology.SentenceAnalysisRequest(input=i))\n",
    "    return response;\n",
    "\n",
    "def fix_decode(text):\n",
    "    \"\"\"Pass decode.\"\"\"\n",
    "    if sys.version_info < (3, 0):\n",
    "        return text.decode('utf-8')\n",
    "    else:\n",
    "        return text"
   ]
  },
  {
   "cell_type": "code",
   "execution_count": 3,
   "id": "b130989e-2016-4fb3-af45-7e9e5e63c3fe",
   "metadata": {},
   "outputs": [
    {
     "data": {
      "text/html": [
       "<div>\n",
       "<style scoped>\n",
       "    .dataframe tbody tr th:only-of-type {\n",
       "        vertical-align: middle;\n",
       "    }\n",
       "\n",
       "    .dataframe tbody tr th {\n",
       "        vertical-align: top;\n",
       "    }\n",
       "\n",
       "    .dataframe thead th {\n",
       "        text-align: right;\n",
       "    }\n",
       "</style>\n",
       "<table border=\"1\" class=\"dataframe\">\n",
       "  <thead>\n",
       "    <tr style=\"text-align: right;\">\n",
       "      <th></th>\n",
       "      <th>text</th>\n",
       "      <th>sentiment</th>\n",
       "    </tr>\n",
       "  </thead>\n",
       "  <tbody>\n",
       "    <tr>\n",
       "      <th>0</th>\n",
       "      <td>Geçtiğimiz hafta Covid-19’a ilişkin endişeler ...</td>\n",
       "      <td>neg</td>\n",
       "    </tr>\n",
       "    <tr>\n",
       "      <th>1</th>\n",
       "      <td>Güne satıcılı başlayan sonrasında gün içi topa...</td>\n",
       "      <td>neg</td>\n",
       "    </tr>\n",
       "    <tr>\n",
       "      <th>2</th>\n",
       "      <td>Geçtiğimiz hafta ABD 10 yıllık tahvil faizleri...</td>\n",
       "      <td>neg</td>\n",
       "    </tr>\n",
       "    <tr>\n",
       "      <th>3</th>\n",
       "      <td>Ukrayna krizi kaynaklı tedirginlik küresel piy...</td>\n",
       "      <td>neg</td>\n",
       "    </tr>\n",
       "    <tr>\n",
       "      <th>4</th>\n",
       "      <td>ABD ve Birleşik Krallık hisse senedi piyasalar...</td>\n",
       "      <td>neg</td>\n",
       "    </tr>\n",
       "  </tbody>\n",
       "</table>\n",
       "</div>"
      ],
      "text/plain": [
       "                                                text sentiment\n",
       "0  Geçtiğimiz hafta Covid-19’a ilişkin endişeler ...       neg\n",
       "1  Güne satıcılı başlayan sonrasında gün içi topa...       neg\n",
       "2  Geçtiğimiz hafta ABD 10 yıllık tahvil faizleri...       neg\n",
       "3  Ukrayna krizi kaynaklı tedirginlik küresel piy...       neg\n",
       "4  ABD ve Birleşik Krallık hisse senedi piyasalar...       neg"
      ]
     },
     "execution_count": 3,
     "metadata": {},
     "output_type": "execute_result"
    }
   ],
   "source": [
    "# Loading the raw sentiment dataset.\n",
    "file_path = 'sentiment_data.csv'\n",
    "df = pd.read_csv(file_path)\n",
    "\n",
    "# Displaying the first few rows of the raw dataset.\n",
    "df.head()"
   ]
  },
  {
   "cell_type": "code",
   "execution_count": 4,
   "id": "3124c244-c040-4396-81c4-6d42f8b02381",
   "metadata": {},
   "outputs": [],
   "source": [
    "#-----------------------------------------------------------------------------------------------------#\n",
    "#                                             TEXT PREPROCESS                                         #\n",
    "#-----------------------------------------------------------------------------------------------------#\n",
    "\n",
    "def text_preprocess(raw_text):\n",
    "    special_terms = {\"çovid-19’a\", \"bist\", \"bist-100\"}\n",
    "    \n",
    "    # Normalizing the input.\n",
    "    normalized_text = \" \".join([\n",
    "        word if word.lower() in special_terms else normalize(word).normalized_input\n",
    "        for word in raw_text.split()\n",
    "    ])\n",
    "\n",
    "    # Applying Tokenization.\n",
    "    tokens = tokenize(normalized_text)\n",
    "\n",
    "    # Removing stopwords, numbers, and punctuations.\n",
    "    stop_words = {\"ve\", \"bir\", \"bu\", \"şu\", \"ile\", \"için\", \"çok\", \"ama\", \"da\", \"de\", \"ki\", \"eğer\"}\n",
    "    clean_tokens = [\n",
    "        token.token.lower() for token in tokens\n",
    "        if token.token not in string.punctuation\n",
    "        and not re.match(r'^[\\d\\.,%-]+$', token.token)  # Sayılar, yüzde ve özel karakterler (örn. %, -) olanları filtreler\n",
    "        and token.token.lower() not in stop_words\n",
    "    ]\n",
    "\n",
    "    # Applying Lemmatization.\n",
    "    lemmatized_tokens = []\n",
    "    for token in clean_tokens:\n",
    "        if token in special_terms:  # Applying lemmatization to special terms.\n",
    "            lemmatized_tokens.append(token)\n",
    "        else:\n",
    "            analysis_result = analyze(token)\n",
    "            for result in analysis_result.results:\n",
    "                lemmatized_tokens.append(result.best.lemmas[0] if result.best.lemmas else token)\n",
    "\n",
    "    # Returning cleaned and lemmatized text by combining the results.\n",
    "    return ' '.join(lemmatized_tokens)"
   ]
  },
  {
   "cell_type": "code",
   "execution_count": 5,
   "id": "44ee54c6-fa21-48d1-91d9-43a83e79fdaa",
   "metadata": {},
   "outputs": [
    {
     "name": "stdout",
     "output_type": "stream",
     "text": [
      "Dün BIST’deki düşüş üst üste sekizinci gününe girdi. Dünkü %5 üzeri kayıpla endeks yılbaşına göre %14’ün üzerinde gerilemiş oldu. Banka hisselerindeki kayıp ise dün %8’i, yılbaşına göre %23’ü buldu. Dünkü satışlarda belirgin bir haber akışı öne çıkmadı. Tarihsel veri bu denli sert düşüşler sonrası tepki geldiğini gösteriyor. Dünkü düşüş sonrası BIST-100 endeksi 100 günlük hareketli ortalamasının sadece %3.9 üzerinde seyrediyor. Endeks 18 Ekim 2021’den bu yana ortalamanın üzerinde kalmayı başardı. Ortalamaya bu denli yakınlaşması ise en son Temmuz 2022’de gerçeklemişti. Yılbaşından bu yana satışların devam etmesi 2022 yılındaki yüksek getirinin realizasyonu ve 2023’teki belirsizlik endişesine yorumlanabilir. Dün yurtdışı tarafta ise FED’in beklentiler paralelinde gelen faiz artışı sonrası temkinli iyimser bir hava hakimdi. Yurtdışı tarafta borsa endeksleri günü genelde artıda kapattı. Haber akışı açısından yarın açıklanacak Ocak ayı enflasyon verileri önem taşıyor. BIST’de bugün dünkü sertsatışlara birmiktar tepki gelebileceğini, ancak piyasanın bunun devamı konusunda temkinli hareket etmesigerektiğini düşünüyoruz.\n"
     ]
    }
   ],
   "source": [
    "print(df[\"text\"][10])"
   ]
  },
  {
   "cell_type": "code",
   "execution_count": 6,
   "id": "a53aa8f9-5a0d-4f87-8cc6-3e83cc3c139a",
   "metadata": {},
   "outputs": [
    {
     "name": "stdout",
     "output_type": "stream",
     "text": [
      "Veri trafiği hızlanıyor. Tatil sonrası veri akışı artıyor. Avrupa'da Hizmet PMI, ABD'de  İmalat ISM verileri ve Fed toplantı tutanakları bugün izlenecekler arasında yer almakta. Yıla pozitif  başlangıç yapan BİST-100 endeksinde ise 5700-5800 direnç bölgesi ön planda kaldı. Dün bu direnç  bölgede kar satışları gördük. Kısa vadede kar satışları açısından 5600-5550 aralığını takip ediyoruz.  5550 bölgesi üzerinde gündeme gelebilecek tepki alımları adına izlediğimiz dirençler sırasıyla 5670- 5710-5800.\n"
     ]
    }
   ],
   "source": [
    "print(df[\"text\"][1000])"
   ]
  },
  {
   "cell_type": "code",
   "execution_count": 7,
   "id": "a0827fe6-3812-4a82-96bf-cee88d2a631b",
   "metadata": {},
   "outputs": [
    {
     "data": {
      "text/html": [
       "<div>\n",
       "<style scoped>\n",
       "    .dataframe tbody tr th:only-of-type {\n",
       "        vertical-align: middle;\n",
       "    }\n",
       "\n",
       "    .dataframe tbody tr th {\n",
       "        vertical-align: top;\n",
       "    }\n",
       "\n",
       "    .dataframe thead th {\n",
       "        text-align: right;\n",
       "    }\n",
       "</style>\n",
       "<table border=\"1\" class=\"dataframe\">\n",
       "  <thead>\n",
       "    <tr style=\"text-align: right;\">\n",
       "      <th></th>\n",
       "      <th>text</th>\n",
       "      <th>sentiment</th>\n",
       "    </tr>\n",
       "  </thead>\n",
       "  <tbody>\n",
       "    <tr>\n",
       "      <th>0</th>\n",
       "      <td>geç hafta çovid-19’a ilişkin endişe piyasa fiy...</td>\n",
       "      <td>neg</td>\n",
       "    </tr>\n",
       "    <tr>\n",
       "      <th>1</th>\n",
       "      <td>gün sat başla sonra gün iç toparla artı geçen ...</td>\n",
       "      <td>neg</td>\n",
       "    </tr>\n",
       "    <tr>\n",
       "      <th>2</th>\n",
       "      <td>geç hafta abd yıllık tahvil faiz gözle sıçra k...</td>\n",
       "      <td>neg</td>\n",
       "    </tr>\n",
       "    <tr>\n",
       "      <th>3</th>\n",
       "      <td>ukrayna kriz kaynak tedirgin küresel piyasa et...</td>\n",
       "      <td>neg</td>\n",
       "    </tr>\n",
       "    <tr>\n",
       "      <th>4</th>\n",
       "      <td>abd birleşik krallık hisse senet piyasa kapalı...</td>\n",
       "      <td>neg</td>\n",
       "    </tr>\n",
       "  </tbody>\n",
       "</table>\n",
       "</div>"
      ],
      "text/plain": [
       "                                                text sentiment\n",
       "0  geç hafta çovid-19’a ilişkin endişe piyasa fiy...       neg\n",
       "1  gün sat başla sonra gün iç toparla artı geçen ...       neg\n",
       "2  geç hafta abd yıllık tahvil faiz gözle sıçra k...       neg\n",
       "3  ukrayna kriz kaynak tedirgin küresel piyasa et...       neg\n",
       "4  abd birleşik krallık hisse senet piyasa kapalı...       neg"
      ]
     },
     "execution_count": 7,
     "metadata": {},
     "output_type": "execute_result"
    }
   ],
   "source": [
    "# Applying Text Preprocessing to the raw dataset.\n",
    "df[\"text\"] = df[\"text\"].apply(text_preprocess)\n",
    "\n",
    "# Displaying the first few rows of the preprocessed dataset.\n",
    "df.head()"
   ]
  },
  {
   "cell_type": "code",
   "execution_count": 8,
   "id": "6e813171-db4b-4e30-9013-e046f5e5f62d",
   "metadata": {},
   "outputs": [
    {
     "name": "stdout",
     "output_type": "stream",
     "text": [
      "dün UNK düş üst üste sekizinci gün gir dün üzeri kayıp endeks yılbaşı göre %14 üzeri gerile ol banka hisse kayıp iş dün %8 yılbaşı göre %23 bul dün sat belirgin haber ak one çık tarih veri denli sert düş sonra tepki gel göster dün düş sonra bist-100 endeks günlük hareket ortalama sadece üzeri seyret endeks ekim 2021 yan ortalama üzeri kal başar ortalama denli yakın iş en sen temmuz 2022 gerçekle yılbaş yan sat devam et yıl yüksek getiri realizasyon 2023 belirsiz endişe yorumla dün yurtdışı taraf iş fed beklenti paralel gel faiz artı sonra temkin iyimser hava haki yurtdışı taraf borsa endeks gün genelde artı kapa haber ak açı yarın açıkla ocak ayı enflasyon veri önem taşı UNK bugün dün UNK miktar tepki gel ancak piyasa bu devam konu temkin hareket UNK düşün\n"
     ]
    }
   ],
   "source": [
    "print(df[\"text\"][10])"
   ]
  },
  {
   "cell_type": "code",
   "execution_count": 9,
   "id": "d6f03c7a-dffc-4965-804c-fe3032b05855",
   "metadata": {},
   "outputs": [
    {
     "name": "stdout",
     "output_type": "stream",
     "text": [
      "veri trafik hız tatil sonra veri ak art avrupa hizmet pmı abd imalat UNK veri fed toplantı tutanak bugün izle ara yer al yıl pozitif başlangıç yap bist-100 endeks iş direnç bölge on plan kal dün direnç bölge kar sat gör kısa vade kar sat açı aralık takip et bölge üzeri gündem gel tepki alım ad izle direnç sıra\n"
     ]
    }
   ],
   "source": [
    "print(df[\"text\"][1000])"
   ]
  },
  {
   "cell_type": "code",
   "execution_count": 10,
   "id": "dd251883-e083-4cee-be3f-ae7954617722",
   "metadata": {},
   "outputs": [
    {
     "name": "stdout",
     "output_type": "stream",
     "text": [
      "Processed data saved as: pre_sentiment_data.csv\n"
     ]
    }
   ],
   "source": [
    "# Saving preprocessed data to a new CSV file to save time.\n",
    "output_file_path = 'pre_sentiment_data.csv'\n",
    "df.to_csv(output_file_path, index=False, encoding='utf-8')\n",
    "\n",
    "print(f\"Processed data saved as: {output_file_path}\")"
   ]
  },
  {
   "cell_type": "code",
   "execution_count": 11,
   "id": "8e62647f-fc51-40da-abc4-4d6c82a03436",
   "metadata": {
    "scrolled": true
   },
   "outputs": [
    {
     "data": {
      "text/html": [
       "<div>\n",
       "<style scoped>\n",
       "    .dataframe tbody tr th:only-of-type {\n",
       "        vertical-align: middle;\n",
       "    }\n",
       "\n",
       "    .dataframe tbody tr th {\n",
       "        vertical-align: top;\n",
       "    }\n",
       "\n",
       "    .dataframe thead th {\n",
       "        text-align: right;\n",
       "    }\n",
       "</style>\n",
       "<table border=\"1\" class=\"dataframe\">\n",
       "  <thead>\n",
       "    <tr style=\"text-align: right;\">\n",
       "      <th></th>\n",
       "      <th>text</th>\n",
       "      <th>sentiment</th>\n",
       "    </tr>\n",
       "  </thead>\n",
       "  <tbody>\n",
       "    <tr>\n",
       "      <th>0</th>\n",
       "      <td>geç hafta çovid-19’a ilişkin endişe piyasa fiy...</td>\n",
       "      <td>neg</td>\n",
       "    </tr>\n",
       "    <tr>\n",
       "      <th>1</th>\n",
       "      <td>gün sat başla sonra gün iç toparla artı geçen ...</td>\n",
       "      <td>neg</td>\n",
       "    </tr>\n",
       "    <tr>\n",
       "      <th>2</th>\n",
       "      <td>geç hafta abd yıllık tahvil faiz gözle sıçra k...</td>\n",
       "      <td>neg</td>\n",
       "    </tr>\n",
       "    <tr>\n",
       "      <th>3</th>\n",
       "      <td>ukrayna kriz kaynak tedirgin küresel piyasa et...</td>\n",
       "      <td>neg</td>\n",
       "    </tr>\n",
       "    <tr>\n",
       "      <th>4</th>\n",
       "      <td>abd birleşik krallık hisse senet piyasa kapalı...</td>\n",
       "      <td>neg</td>\n",
       "    </tr>\n",
       "  </tbody>\n",
       "</table>\n",
       "</div>"
      ],
      "text/plain": [
       "                                                text sentiment\n",
       "0  geç hafta çovid-19’a ilişkin endişe piyasa fiy...       neg\n",
       "1  gün sat başla sonra gün iç toparla artı geçen ...       neg\n",
       "2  geç hafta abd yıllık tahvil faiz gözle sıçra k...       neg\n",
       "3  ukrayna kriz kaynak tedirgin küresel piyasa et...       neg\n",
       "4  abd birleşik krallık hisse senet piyasa kapalı...       neg"
      ]
     },
     "execution_count": 11,
     "metadata": {},
     "output_type": "execute_result"
    }
   ],
   "source": [
    "# Changing the data frame with preprocessed data.\n",
    "file_path = 'pre_sentiment_data.csv'\n",
    "df = pd.read_csv(file_path)\n",
    "\n",
    "# Displaying the first few rows of the new dataframe.\n",
    "df.head()"
   ]
  },
  {
   "cell_type": "code",
   "execution_count": 12,
   "id": "9b7f958f-243e-46d3-a45a-baf8fb55342d",
   "metadata": {},
   "outputs": [
    {
     "data": {
      "image/png": "[encoded data removed]",
      "text/plain": [
       "<Figure size 700x700 with 1 Axes>"
      ]
     },
     "metadata": {},
     "output_type": "display_data"
    }
   ],
   "source": [
    "# Sentiment distribution (negative and positive)\n",
    "sentiment_distribution = df[\"sentiment\"].value_counts()\n",
    "\n",
    "# Pie Chart\n",
    "plt.figure(figsize=(7, 7))\n",
    "plt.pie(sentiment_distribution, labels=[\"Positive\", \"Negative\"], autopct='%1.1f%%', startangle=90, colors=[\"#FF9999\", \"#66B2FF\"])\n",
    "plt.title('Sentiment Distribution (Positive vs Negative)')\n",
    "plt.axis('equal')\n",
    "plt.show()"
   ]
  },
  {
   "cell_type": "code",
   "execution_count": 13,
   "id": "64e0f947-dedb-421a-8b83-c7ed10b53d60",
   "metadata": {
    "scrolled": true
   },
   "outputs": [
    {
     "name": "stdout",
     "output_type": "stream",
     "text": [
      "[ 0.36295024 -0.1090178  -0.07730559  0.06912593  0.06909671 -0.22835922\n",
      "  0.24660799  0.26367244  0.02637209  0.09366962 -0.22995505 -0.24278955\n",
      " -0.15486139 -0.47670296 -0.16423327 -0.00464721 -0.02237141 -0.3760744\n",
      " -0.04254543 -0.09525904  0.3226429  -0.3282861   0.12460347  0.01484916\n",
      " -0.10577288 -0.06866388 -0.10374091  0.17406261  0.16910265 -0.17229035\n",
      "  0.3479      0.05608077  0.26683164 -0.04124503  0.08806561 -0.10503329\n",
      "  0.24879     0.27729854 -0.02507377 -0.11409725  0.00085449 -0.03479334\n",
      "  0.12492369  0.1133031  -0.2577547   0.20911904 -0.25234416  0.00380685\n",
      "  0.09540674  0.01073563 -0.05792819  0.09229381  0.19523072 -0.05003815\n",
      " -0.03601598  0.29780307 -0.12335287 -0.40721557 -0.2613632   0.5493358\n",
      "  0.10446188  0.06805039  0.7040549   0.10719766 -0.02991298  0.09308914\n",
      " -0.2040695   0.07363994 -0.24180196 -0.30776983 -0.25430816 -0.23738946\n",
      "  0.23914494  0.30998394  0.5212148   0.06592114  0.11157359  0.18793154\n",
      "  0.0556649   0.11150975  0.07201709  0.02338154 -0.39291036  0.40092233\n",
      " -0.60770917  0.0606037   0.1969414   0.520358    0.55918497 -0.11802578\n",
      "  0.32979983  0.18461317  0.26888058  0.01436494  0.1218999  -0.11571206\n",
      "  0.08816308 -0.02312796 -0.11880668 -0.45373687]\n",
      "\n",
      "Word2Vec model saved as 'word2vec_model.model'\n"
     ]
    }
   ],
   "source": [
    "#-----------------------------------------------------------------------------------------------------#\n",
    "#                                          WORD2VEC EMBEDDING                                         #\n",
    "#-----------------------------------------------------------------------------------------------------#\n",
    "\n",
    "# Splitting text into tokens.\n",
    "sentences = [text.split() for text in df['text']]\n",
    "\n",
    "# Creating and training the Word2Vec model:\n",
    "word2vec_model = Word2Vec(\n",
    "    sentences=sentences,\n",
    "    vector_size=100,        # -----------------> Change VECTOR Size <-----------------\n",
    "    window=5,               # -----------------> Change Window Size <-----------------\n",
    "    min_count=2,            # ------------> Change Minimum Word Frequency <-----------\n",
    "    workers=4,              # ------------> Change Number of Processors <-------------\n",
    "    sg=1                    # ------------> (1 = Skip-gram, 0 = CBOW) <---------------\n",
    ")\n",
    "\n",
    "# Displaying the vector of an example word:\n",
    "print(word2vec_model.wv['banka'])  # -----------------> Change Example Word <-----------------\n",
    "\n",
    "# Saving the model.\n",
    "word2vec_model.save(\"word2vec_model.model\")\n",
    "print(\"\\nWord2Vec model saved as 'word2vec_model.model'\")"
   ]
  },
  {
   "cell_type": "code",
   "execution_count": 14,
   "id": "31f409c9-0ba7-4772-8d06-c69792437762",
   "metadata": {},
   "outputs": [],
   "source": [
    "# Encoding labels as positive & negative.\n",
    "label_encoder = LabelEncoder()\n",
    "df['sentiment'] = label_encoder.fit_transform(df['sentiment'])\n",
    "\n",
    "# Splitting the data into Training and Test sets.\n",
    "X = df['text'].values\n",
    "y = df['sentiment'].values\n",
    "X_train, X_test, y_train, y_test = train_test_split(X, y, test_size=0.2, random_state=42)\n",
    "\n",
    "# Importing Word2Vec model.\n",
    "word2vec_model = Word2Vec.load(\"word2vec_model.model\")\n",
    "\n",
    "# Converting words to Word2Vec vectors.\n",
    "def text_to_word2vec(text, model, vector_size=100): # ----------> Change VECTOR Size Here! <----------\n",
    "    return [model.wv[word] if word in model.wv else np.zeros(vector_size) for word in text.split()]\n",
    "\n",
    "X_train_vec = [text_to_word2vec(text, word2vec_model) for text in X_train]\n",
    "X_test_vec = [text_to_word2vec(text, word2vec_model) for text in X_test]\n",
    "\n",
    "max_length = 100  # Maximum sentence length."
   ]
  },
  {
   "cell_type": "code",
   "execution_count": 15,
   "id": "54f23a4b-8273-47f8-85cc-23120b42ab17",
   "metadata": {
    "scrolled": true
   },
   "outputs": [
    {
     "name": "stdout",
     "output_type": "stream",
     "text": [
      "X_train_pad shape: (1364, 100, 100)\n",
      "X_test_pad shape: (342, 100, 100)\n",
      "Epoch 1/5\n",
      "\u001b[1m22/22\u001b[0m \u001b[32m━━━━━━━━━━━━━━━━━━━━\u001b[0m\u001b[37m\u001b[0m \u001b[1m4s\u001b[0m 96ms/step - accuracy: 0.5445 - loss: 0.9814 - val_accuracy: 0.5205 - val_loss: 0.7251\n",
      "Epoch 2/5\n",
      "\u001b[1m22/22\u001b[0m \u001b[32m━━━━━━━━━━━━━━━━━━━━\u001b[0m\u001b[37m\u001b[0m \u001b[1m2s\u001b[0m 76ms/step - accuracy: 0.5598 - loss: 10733914.0000 - val_accuracy: 0.5175 - val_loss: 0.6776\n",
      "Epoch 3/5\n",
      "\u001b[1m22/22\u001b[0m \u001b[32m━━━━━━━━━━━━━━━━━━━━\u001b[0m\u001b[37m\u001b[0m \u001b[1m2s\u001b[0m 75ms/step - accuracy: 0.5706 - loss: 335.8964 - val_accuracy: 0.5205 - val_loss: 0.6873\n",
      "Epoch 4/5\n",
      "\u001b[1m22/22\u001b[0m \u001b[32m━━━━━━━━━━━━━━━━━━━━\u001b[0m\u001b[37m\u001b[0m \u001b[1m2s\u001b[0m 75ms/step - accuracy: 0.5707 - loss: 0.9130 - val_accuracy: 0.5205 - val_loss: 0.7493\n",
      "Epoch 5/5\n",
      "\u001b[1m22/22\u001b[0m \u001b[32m━━━━━━━━━━━━━━━━━━━━\u001b[0m\u001b[37m\u001b[0m \u001b[1m2s\u001b[0m 75ms/step - accuracy: 0.5751 - loss: 6.6461 - val_accuracy: 0.5205 - val_loss: 0.6911\n",
      "\u001b[1m11/11\u001b[0m \u001b[32m━━━━━━━━━━━━━━━━━━━━\u001b[0m\u001b[37m\u001b[0m \u001b[1m0s\u001b[0m 21ms/step - accuracy: 0.5080 - loss: 0.6964\n",
      "\u001b[1m11/11\u001b[0m \u001b[32m━━━━━━━━━━━━━━━━━━━━\u001b[0m\u001b[37m\u001b[0m \u001b[1m1s\u001b[0m 41ms/step \n",
      "\n",
      "Word2Vec LSTM Model Test Accuracy: 52.05%\n",
      "Word2Vec LSTM Model Test Precision: 0.52\n",
      "Word2Vec LSTM Model Test Recall: 1.00\n",
      "Word2Vec LSTM Model Test F1-Score: 0.68\n"
     ]
    }
   ],
   "source": [
    "#-----------------------------------------------------------------------------------------------------#\n",
    "#                                   LSTM (LONG SHORT-TERM MEMORY)                                     #\n",
    "#-----------------------------------------------------------------------------------------------------#\n",
    "\n",
    "# Manual padding:\n",
    "def pad_word_vectors(sequences, max_length, vector_size=100): # ------> Change VECTOR Size Here! <-----\n",
    "    padded_sequences = np.zeros((len(sequences), max_length, vector_size))\n",
    "    for i, seq in enumerate(sequences):\n",
    "        for j, word_vec in enumerate(seq):\n",
    "            if j < max_length:\n",
    "                padded_sequences[i, j] = word_vec\n",
    "    return padded_sequences\n",
    "\n",
    "X_train_pad = pad_word_vectors(X_train_vec, max_length)\n",
    "X_test_pad = pad_word_vectors(X_test_vec, max_length)\n",
    "\n",
    "# Displaying the padded data.\n",
    "print(\"X_train_pad shape:\", X_train_pad.shape)  # (num_samples, max_sequence_length, embedding_dim)\n",
    "print(\"X_test_pad shape:\", X_test_pad.shape)\n",
    "\n",
    "#-----------------------------------------------------------------------------------------------------#\n",
    "\n",
    "# Making the model:\n",
    "model = Sequential()\n",
    "\n",
    "# Adding the Input layer:\n",
    "model.add(Input(shape=(max_length, 100)))  # --------------> Change VECTOR Size Here! <---------------\n",
    "\n",
    "# Adding the Bidirectional LSTM Layer:\n",
    "model.add(Bidirectional(LSTM(128, activation='relu', return_sequences=False)))\n",
    "\n",
    "# Adding the Dropout Layer:\n",
    "model.add(Dropout(0.5))\n",
    "\n",
    "# Adding the Output layer: (sigmoid activation function for binary classification)\n",
    "model.add(Dense(1, activation='sigmoid'))\n",
    "\n",
    "# Compiling the model:\n",
    "model.compile(optimizer='adam', loss='binary_crossentropy', metrics=['accuracy'])\n",
    "\n",
    "# (Using class weights if there is a class imbalance.)\n",
    "class_weights = {0: 1., 1: 2.}\n",
    "\n",
    "# Training the model:\n",
    "model.fit(X_train_pad, y_train, epochs=5, batch_size=64, validation_data=(X_test_pad, y_test), class_weight=class_weights)\n",
    "\n",
    "# Evaluating the accuracy of the model:\n",
    "loss, accuracy = model.evaluate(X_test_pad, y_test)\n",
    "\n",
    "# Making predictions:\n",
    "y_pred_prob = model.predict(X_test_pad)\n",
    "y_pred = (y_pred_prob > 0.5).astype(int)\n",
    "\n",
    "# Calculating Precision, Recall, and F1-Score:\n",
    "precision = precision_score(y_test, y_pred)\n",
    "recall = recall_score(y_test, y_pred)\n",
    "f1 = f1_score(y_test, y_pred)\n",
    "\n",
    "# Printing the results:\n",
    "print(f'\\nWord2Vec LSTM Model Test Accuracy: {accuracy * 100:.2f}%')\n",
    "print(f\"Word2Vec LSTM Model Test Precision: {precision:.2f}\") # True positive predictions among all positive predictions.\n",
    "print(f\"Word2Vec LSTM Model Test Recall: {recall:.2f}\") # True positive predictions among all actual positive instances\n",
    "print(f\"Word2Vec LSTM Model Test F1-Score: {f1:.2f}\")"
   ]
  },
  {
   "cell_type": "code",
   "execution_count": 16,
   "id": "dd14c10b-cba3-4880-88c4-6a2a7eb70e16",
   "metadata": {},
   "outputs": [
    {
     "name": "stdout",
     "output_type": "stream",
     "text": [
      "X_train_pad shape: (1364, 100, 100)\n",
      "X_test_pad shape: (342, 100, 100)\n",
      "Epoch 1/5\n",
      "\u001b[1m22/22\u001b[0m \u001b[32m━━━━━━━━━━━━━━━━━━━━\u001b[0m\u001b[37m\u001b[0m \u001b[1m2s\u001b[0m 36ms/step - accuracy: 0.5430 - loss: 0.6942 - val_accuracy: 0.5497 - val_loss: 0.6771\n",
      "Epoch 2/5\n",
      "\u001b[1m22/22\u001b[0m \u001b[32m━━━━━━━━━━━━━━━━━━━━\u001b[0m\u001b[37m\u001b[0m \u001b[1m1s\u001b[0m 22ms/step - accuracy: 0.5907 - loss: 0.6663 - val_accuracy: 0.5409 - val_loss: 0.6621\n",
      "Epoch 3/5\n",
      "\u001b[1m22/22\u001b[0m \u001b[32m━━━━━━━━━━━━━━━━━━━━\u001b[0m\u001b[37m\u001b[0m \u001b[1m0s\u001b[0m 21ms/step - accuracy: 0.5973 - loss: 0.6427 - val_accuracy: 0.5556 - val_loss: 0.6520\n",
      "Epoch 4/5\n",
      "\u001b[1m22/22\u001b[0m \u001b[32m━━━━━━━━━━━━━━━━━━━━\u001b[0m\u001b[37m\u001b[0m \u001b[1m0s\u001b[0m 21ms/step - accuracy: 0.6280 - loss: 0.6166 - val_accuracy: 0.5614 - val_loss: 0.6444\n",
      "Epoch 5/5\n",
      "\u001b[1m22/22\u001b[0m \u001b[32m━━━━━━━━━━━━━━━━━━━━\u001b[0m\u001b[37m\u001b[0m \u001b[1m0s\u001b[0m 21ms/step - accuracy: 0.6087 - loss: 0.6257 - val_accuracy: 0.5760 - val_loss: 0.6495\n",
      "\u001b[1m11/11\u001b[0m \u001b[32m━━━━━━━━━━━━━━━━━━━━\u001b[0m\u001b[37m\u001b[0m \u001b[1m0s\u001b[0m 7ms/step - accuracy: 0.5550 - loss: 0.6531 \n",
      "\u001b[1m11/11\u001b[0m \u001b[32m━━━━━━━━━━━━━━━━━━━━\u001b[0m\u001b[37m\u001b[0m \u001b[1m0s\u001b[0m 15ms/step \n",
      "\n",
      "Word2Vec RNN Model Test Accuracy: 57.60%\n",
      "Word2Vec RNN Model Test Precision: 0.56\n",
      "Word2Vec RNN Model Test Recall: 0.87\n",
      "Word2Vec RNN Model Test F1-Score: 0.68\n"
     ]
    }
   ],
   "source": [
    "#-----------------------------------------------------------------------------------------------------#\n",
    "#                                    RNN (RECURRENT NEURAL NETWORK)                                   #\n",
    "#-----------------------------------------------------------------------------------------------------#\n",
    "\n",
    "# Keras Based Padding:\n",
    "X_train_pad = pad_sequences(X_train_vec, maxlen=max_length, dtype='object', padding='post', truncating='post')\n",
    "X_test_pad = pad_sequences(X_test_vec, maxlen=max_length, dtype='object', padding='post', truncating='post')\n",
    "\n",
    "# Editing the data to be in the correct 3D format.\n",
    "X_train_pad = np.array([np.array(sentence) for sentence in X_train_pad], dtype='float32')\n",
    "X_test_pad = np.array([np.array(sentence) for sentence in X_test_pad], dtype='float32')\n",
    "\n",
    "# Displaying the padded data.\n",
    "print(f\"X_train_pad shape: {X_train_pad.shape}\") # (num_samples, max_sequence_length, embedding_dim)\n",
    "print(f\"X_test_pad shape: {X_test_pad.shape}\")\n",
    "\n",
    "#-----------------------------------------------------------------------------------------------------#\n",
    "\n",
    "# Making the model:\n",
    "model = Sequential()\n",
    "\n",
    "# Adding the Input layer:\n",
    "model.add(Input(shape=(max_length, 100)))  # --------------> Change VECTOR Size Here! <---------------\n",
    "\n",
    "# Adding the RNN Layer:\n",
    "model.add(SimpleRNN(128, activation='relu', return_sequences=False))\n",
    "\n",
    "# Adding the Dropout Layer:\n",
    "model.add(Dropout(0.5))\n",
    "\n",
    "# Adding the Output layer: (sigmoid activation function for binary classification)\n",
    "model.add(Dense(1, activation='sigmoid'))\n",
    "\n",
    "# Compiling the model:\n",
    "model.compile(optimizer='adam', loss='binary_crossentropy', metrics=['accuracy'])\n",
    "\n",
    "# Training the model:\n",
    "model.fit(X_train_pad, y_train, epochs=5, batch_size=64, validation_data=(X_test_pad, y_test))\n",
    "\n",
    "# Evaluating the accuracy of the model:\n",
    "loss, accuracy = model.evaluate(X_test_pad, y_test)\n",
    "\n",
    "# Making predictions:\n",
    "y_pred_prob = model.predict(X_test_pad)\n",
    "y_pred = (y_pred_prob > 0.5).astype(int)\n",
    "\n",
    "# Calculating Precision, Recall, and F1-Score:\n",
    "precision = precision_score(y_test, y_pred)\n",
    "recall = recall_score(y_test, y_pred)\n",
    "f1 = f1_score(y_test, y_pred)\n",
    "\n",
    "# Printing the results:\n",
    "print(f'\\nWord2Vec RNN Model Test Accuracy: {accuracy * 100:.2f}%')\n",
    "print(f\"Word2Vec RNN Model Test Precision: {precision:.2f}\") # True positive predictions among all positive predictions.\n",
    "print(f\"Word2Vec RNN Model Test Recall: {recall:.2f}\") # True positive predictions among all actual positive instances\n",
    "print(f\"Word2Vec RNN Model Test F1-Score: {f1:.2f}\")"
   ]
  },
  {
   "cell_type": "code",
   "execution_count": 17,
   "id": "72eeabfc-8dc2-4fe0-844b-aa8441410134",
   "metadata": {
    "scrolled": true
   },
   "outputs": [
    {
     "name": "stdout",
     "output_type": "stream",
     "text": [
      "\n",
      "\n",
      "The results show that Word2Vec embedding cannot meet the desired values in creating the model we want. (Different parameters were tried while creating Word2Vec, but Accuracy and F1 Score differed only by ±5% from the existing results.)\n",
      "\n",
      "\n"
     ]
    }
   ],
   "source": [
    "print(\"\\n\\nThe results show that Word2Vec embedding cannot meet the desired values in creating the model we want. (Different parameters were tried while creating Word2Vec, but Accuracy and F1 Score differed only by ±5% from the existing results.)\\n\\n\")"
   ]
  },
  {
   "cell_type": "code",
   "execution_count": 18,
   "id": "37c082c0-abdd-44f2-8251-7c33c4e714ce",
   "metadata": {},
   "outputs": [],
   "source": [
    "#-----------------------------------------------------------------------------------------------------#\n",
    "#                                            BERT EMBEDDING                                           #\n",
    "#-----------------------------------------------------------------------------------------------------#\n",
    "\n",
    "file_path = 'pre_sentiment_data.csv'\n",
    "df = pd.read_csv(file_path)\n",
    "\n",
    "MODEL_NAME = \"dbmdz/bert-base-turkish-cased\"\n",
    "tokenizer = BertTokenizer.from_pretrained(MODEL_NAME)\n",
    "model = BertModel.from_pretrained(MODEL_NAME)\n",
    "\n",
    "# Getting average embeddings using BERT model:\n",
    "def get_average_embedding(text):\n",
    "    # Tokenizing.\n",
    "    inputs = tokenizer(text, return_tensors=\"pt\", truncation=True, padding=True, max_length=512)\n",
    "    \n",
    "    with torch.no_grad():\n",
    "        outputs = model(**inputs)\n",
    "        embeddings = outputs.last_hidden_state  # [batch_size, seq_length, hidden_size]\n",
    "        \n",
    "    # Average the embeddings of all words in the sentence.\n",
    "    avg_embedding = torch.mean(embeddings, dim=1)  # [batch_size, hidden_size]\n",
    "    return avg_embedding.squeeze().numpy()"
   ]
  },
  {
   "cell_type": "code",
   "execution_count": 19,
   "id": "9cbeeb96-6914-40a6-9f11-7c1a89bf2c6d",
   "metadata": {
    "scrolled": true
   },
   "outputs": [
    {
     "name": "stdout",
     "output_type": "stream",
     "text": [
      "torch.Size([1364, 1, 768]) torch.Size([1364])\n",
      "torch.Size([342, 1, 768]) torch.Size([342])\n",
      "tensor([0, 1])\n",
      "tensor([0, 1])\n"
     ]
    }
   ],
   "source": [
    "#-----------------------------------------------------------------------------------------------------#\n",
    "#                                    RNN (RECURRENT NEURAL NETWORK)                                   #\n",
    "#-----------------------------------------------------------------------------------------------------#\n",
    "\n",
    "# Defining the RNN model.\n",
    "class RNNModel(nn.Module):\n",
    "    def __init__(self, input_dim, hidden_dim, output_dim):\n",
    "        super(RNNModel, self).__init__()\n",
    "        self.rnn = nn.RNN(input_dim, hidden_dim, batch_first=True)\n",
    "        self.fc = nn.Linear(hidden_dim, output_dim)\n",
    "\n",
    "    def forward(self, x):\n",
    "        rnn_out, _ = self.rnn(x)\n",
    "        out = rnn_out[:, -1, :]\n",
    "        out = self.fc(out)\n",
    "        return out\n",
    "\n",
    "# Data preparation with BERT model.\n",
    "df[\"bert_embeddings\"] = df[\"text\"].apply(lambda x: get_average_embedding(x))\n",
    "sentiment_mapping = {\"pos\": 1, \"neg\": 0}\n",
    "df[\"sentiment\"] = df[\"sentiment\"].map(sentiment_mapping)\n",
    "X = torch.stack([torch.tensor(embed) for embed in df[\"bert_embeddings\"].values]).unsqueeze(1)\n",
    "y = torch.tensor(df[\"sentiment\"].values, dtype=torch.long)\n",
    "\n",
    "X_train, X_test, y_train, y_test = train_test_split(X, y, test_size=0.2, random_state=42)\n",
    "print(X_train.shape, y_train.shape)\n",
    "print(X_test.shape, y_test.shape)\n",
    "\n",
    "print(y_train.unique())\n",
    "print(y_test.unique())\n",
    "\n",
    "# Defining layers, model, loss & optimizer.\n",
    "input_dim = X_train.shape[2]\n",
    "hidden_dim = 128\n",
    "output_dim = 2\n",
    "model = RNNModel(input_dim, hidden_dim, output_dim)\n",
    "criterion = nn.CrossEntropyLoss()\n",
    "optimizer = optim.Adam(model.parameters(), lr=0.001)\n",
    "\n",
    "# Training the RNN model.\n",
    "def train_model(model, X_train, y_train, epochs=5, batch_size=32):\n",
    "    model.train()\n",
    "    for epoch in range(epochs):\n",
    "        for i in range(0, len(X_train), batch_size):\n",
    "            batch_X = X_train[i:i+batch_size]\n",
    "            batch_y = y_train[i:i+batch_size]\n",
    "            optimizer.zero_grad()\n",
    "            outputs = model(batch_X)\n",
    "            loss = criterion(outputs, batch_y)\n",
    "            loss.backward()\n",
    "            optimizer.step()\n",
    "        print(f'Epoch {epoch+1}/{epochs}, Loss: {loss.item()}')"
   ]
  },
  {
   "cell_type": "code",
   "execution_count": 20,
   "id": "0999164b-45ce-4355-8e13-8362756195d9",
   "metadata": {
    "scrolled": true
   },
   "outputs": [
    {
     "name": "stdout",
     "output_type": "stream",
     "text": [
      "Epoch 1/5, Loss: 0.4809494912624359\n",
      "Epoch 2/5, Loss: 0.4032769203186035\n",
      "Epoch 3/5, Loss: 0.3773009777069092\n",
      "Epoch 4/5, Loss: 0.34688788652420044\n",
      "Epoch 5/5, Loss: 0.32134008407592773\n"
     ]
    }
   ],
   "source": [
    "train_model(model, X_train, y_train)"
   ]
  },
  {
   "cell_type": "code",
   "execution_count": 21,
   "id": "7400807c-d10e-4288-921d-67d62b22529d",
   "metadata": {},
   "outputs": [
    {
     "name": "stdout",
     "output_type": "stream",
     "text": [
      "Precision: 0.921875\n",
      "Recall: 0.6629213483146067\n",
      "F1 Score: 0.7712418300653595\n",
      "Accuracy: 0.7953216374269005\n"
     ]
    },
    {
     "data": {
      "image/png": "[encoded data removed]",
      "text/plain": [
       "<Figure size 600x500 with 2 Axes>"
      ]
     },
     "metadata": {},
     "output_type": "display_data"
    }
   ],
   "source": [
    "# Evaluating the model with the desired threshold value.\n",
    "\n",
    "def evaluate_with_threshold(model, X_test, y_test, threshold=0.5):\n",
    "    \n",
    "    # Moving model and data to the appropriate device, if there is a processor mismatch.\n",
    "    device = torch.device('cuda' if torch.cuda.is_available() else 'cpu')\n",
    "    model = model.to(device)\n",
    "    X_test = X_test.to(device)\n",
    "    y_test = y_test.to(device)\n",
    "    \n",
    "    model.eval()\n",
    "    with torch.no_grad():\n",
    "        outputs = model(X_test) # Ensuring the output is also on the correct device.\n",
    "        probabilities = torch.softmax(outputs, dim=1)[:, 1]  # (Positive Class Probabilities)\n",
    "        \n",
    "        # Applying threshold to make predictions.\n",
    "        y_pred = (probabilities > threshold).int()\n",
    "\n",
    "    y_test_np = y_test.cpu().numpy()\n",
    "    y_pred_np = y_pred.cpu().numpy()\n",
    "    \n",
    "    precision, recall, f1, _ = precision_recall_fscore_support(y_test_np, y_pred_np, average='binary')\n",
    "    accuracy = accuracy_score(y_test_np, y_pred_np)\n",
    "\n",
    "    # Printing the results:\n",
    "    print(f\"Precision: {precision}\")\n",
    "    print(f\"Recall: {recall}\")\n",
    "    print(f\"F1 Score: {f1}\")\n",
    "    print(f\"Accuracy: {accuracy}\")\n",
    "\n",
    "    # Visualization the results with Confusion Matrix:\n",
    "    cm = confusion_matrix(y_test_np, y_pred)\n",
    "    plt.figure(figsize=(6, 5))\n",
    "    sns.heatmap(cm, annot=True, fmt='d', cmap='Blues', xticklabels=[\"Negative\", \"Positive\"], yticklabels=[\"Negative\", \"Positive\"])\n",
    "    plt.title('Confusion Matrix')\n",
    "    plt.ylabel('Actual')\n",
    "    plt.xlabel('Predicted')\n",
    "    plt.show()\n",
    "\n",
    "evaluate_with_threshold(model, X_test, y_test, threshold=0.73)  # --------------> Change Threshold Value Here! <---------------"
   ]
  },
  {
   "cell_type": "code",
   "execution_count": 22,
   "id": "48d656e6-66a8-4df6-a003-7dac3fdc8dd2",
   "metadata": {},
   "outputs": [
    {
     "name": "stdout",
     "output_type": "stream",
     "text": [
      "\n",
      "\n",
      "The results obtained are better, but we can get better results if the data set is balanced with sentetic data.\n",
      "\n",
      "\n"
     ]
    }
   ],
   "source": [
    "print(\"\\n\\nThe results obtained are better, but we can get better results if the data set is balanced with sentetic data.\\n\\n\")"
   ]
  },
  {
   "cell_type": "code",
   "execution_count": 23,
   "id": "dff7f74b-f010-42f1-ae65-810d582a9743",
   "metadata": {},
   "outputs": [
    {
     "data": {
      "image/png": "[encoded data removed]",
      "text/plain": [
       "<Figure size 1200x600 with 2 Axes>"
      ]
     },
     "metadata": {},
     "output_type": "display_data"
    },
    {
     "name": "stdout",
     "output_type": "stream",
     "text": [
      "torch.Size([1364, 1, 768]) torch.Size([1364])\n",
      "torch.Size([342, 1, 768]) torch.Size([342])\n",
      "tensor([0, 1])\n",
      "tensor([0, 1])\n"
     ]
    }
   ],
   "source": [
    "#-----------------------------------------------------------------------------------------------------#\n",
    "#                               BALANCED RNN (RECURRENT NEURAL NETWORK)                               #\n",
    "#-----------------------------------------------------------------------------------------------------#\n",
    "\n",
    "# Defining the RNN Model.\n",
    "class RNNModel(nn.Module):\n",
    "    def __init__(self, input_dim, hidden_dim, output_dim):\n",
    "        super(RNNModel, self).__init__()\n",
    "        self.rnn = nn.RNN(input_dim, hidden_dim, batch_first=True)\n",
    "        self.fc = nn.Linear(hidden_dim, output_dim)\n",
    "\n",
    "    def forward(self, x):\n",
    "        rnn_out, _ = self.rnn(x)\n",
    "        out = rnn_out[:, -1, :]\n",
    "        out = self.fc(out)\n",
    "        return out\n",
    "\n",
    "file_path = 'pre_sentiment_data.csv'\n",
    "df = pd.read_csv(file_path)\n",
    "\n",
    "MODEL_NAME = \"dbmdz/bert-base-turkish-cased\"\n",
    "tokenizer = BertTokenizer.from_pretrained(MODEL_NAME)\n",
    "model = BertModel.from_pretrained(MODEL_NAME)\n",
    "\n",
    "# Data preparation with BERT model.\n",
    "df[\"bert_embeddings\"] = df[\"text\"].apply(lambda x: get_average_embedding(x))\n",
    "sentiment_mapping = {\"pos\": 1, \"neg\": 0}\n",
    "df[\"sentiment\"] = df[\"sentiment\"].map(sentiment_mapping)\n",
    "X = torch.stack([torch.tensor(embed) for embed in df[\"bert_embeddings\"].values]).unsqueeze(1)\n",
    "y = torch.tensor(df[\"sentiment\"].values, dtype=torch.long)\n",
    "\n",
    "X_train, X_test, y_train, y_test = train_test_split(X, y, test_size=0.2, random_state=42)\n",
    "\n",
    "#-----------------------------------------------------------------------------------------------------#\n",
    "\n",
    "# Geting the indexes that come with X_train and X_test.\n",
    "train_indices, test_indices = train_test_split(df.index, test_size=0.2, random_state=42)\n",
    "\n",
    "# Separating the training and test data via df.\n",
    "df_train = df.loc[train_indices]\n",
    "df_test = df.loc[test_indices]\n",
    "original_distribution = df_train[\"sentiment\"].value_counts()\n",
    "\n",
    "# Balancing training data (oversampling with synthetic data).\n",
    "df_majority = df_train[df_train[\"sentiment\"] == 0]  # Negative Class\n",
    "df_minority = df_train[df_train[\"sentiment\"] == 1]  # Positive Class\n",
    "\n",
    "df_minority_oversampled = resample(\n",
    "    df_minority,\n",
    "    replace=True,\n",
    "    n_samples=len(df_majority),\n",
    "    random_state=42\n",
    ")\n",
    "\n",
    "# Merging the balanced dataset.\n",
    "df_balanced_train = pd.concat([df_majority, df_minority_oversampled])\n",
    "\n",
    "# Converting the balanced training data to Torch tensor.\n",
    "X_train_balanced = torch.stack([torch.tensor(embed) for embed in df_balanced_train[\"bert_embeddings\"].values])\n",
    "y_train_balanced = torch.tensor(df_balanced_train[\"sentiment\"].values, dtype=torch.long)\n",
    "\n",
    "# Visualizing the distribution of classes:\n",
    "def plot_class_distribution(original, balanced, labels=[\"Positive\", \"Negative\"]):\n",
    "    fig, axs = plt.subplots(1, 2, figsize=(12, 6))\n",
    "    \n",
    "    axs[0].pie(original, labels=labels, autopct='%1.1f%%', startangle=90, colors=[\"blue\", \"red\"])\n",
    "    axs[0].set_title(\"Original Class Distribution\")\n",
    "    \n",
    "    axs[1].pie(balanced, labels=labels, autopct='%1.1f%%', startangle=90, colors=[\"blue\", \"red\"])\n",
    "    axs[1].set_title(\"Balanced Class Distribution\")\n",
    "    \n",
    "    plt.show()\n",
    "\n",
    "original_counts = original_distribution.tolist()\n",
    "balanced_counts = df_balanced_train[\"sentiment\"].value_counts().tolist()\n",
    "plot_class_distribution(original_counts, balanced_counts)\n",
    "\n",
    "#-----------------------------------------------------------------------------------------------------#\n",
    "\n",
    "print(X_train.shape, y_train.shape)\n",
    "print(X_test.shape, y_test.shape)\n",
    "\n",
    "print(y_train.unique())\n",
    "print(y_test.unique())\n",
    "\n",
    "# Defining layers, model, loss & optimizer.\n",
    "input_dim = X_train.shape[2]\n",
    "hidden_dim = 128\n",
    "output_dim = 2\n",
    "model = RNNModel(input_dim, hidden_dim, output_dim)\n",
    "criterion = nn.CrossEntropyLoss()\n",
    "optimizer = optim.Adam(model.parameters(), lr=0.001)\n",
    "\n",
    "# Training the RNN model.\n",
    "def train_model(model, X_train, y_train, epochs=5, batch_size=32):\n",
    "    model.train()\n",
    "    for epoch in range(epochs):\n",
    "        for i in range(0, len(X_train), batch_size):\n",
    "            batch_X = X_train[i:i+batch_size]\n",
    "            batch_y = y_train[i:i+batch_size]\n",
    "            optimizer.zero_grad()\n",
    "            outputs = model(batch_X)\n",
    "            loss = criterion(outputs, batch_y)\n",
    "            loss.backward()\n",
    "            optimizer.step()\n",
    "        print(f'Epoch {epoch+1}/{epochs}, Loss: {loss.item()}')"
   ]
  },
  {
   "cell_type": "code",
   "execution_count": 24,
   "id": "aaaf712a-fb0d-49db-ac0c-772bb0b7005b",
   "metadata": {
    "scrolled": true
   },
   "outputs": [
    {
     "name": "stdout",
     "output_type": "stream",
     "text": [
      "Epoch 1/5, Loss: 0.49841341376304626\n",
      "Epoch 2/5, Loss: 0.3856913149356842\n",
      "Epoch 3/5, Loss: 0.3460196852684021\n",
      "Epoch 4/5, Loss: 0.32754331827163696\n",
      "Epoch 5/5, Loss: 0.3032194674015045\n"
     ]
    }
   ],
   "source": [
    "train_model(model, X_train, y_train)"
   ]
  },
  {
   "cell_type": "code",
   "execution_count": 25,
   "id": "46882be3-eafe-43a5-ae6a-f597517cae02",
   "metadata": {},
   "outputs": [
    {
     "name": "stdout",
     "output_type": "stream",
     "text": [
      "Precision: 0.8851351351351351\n",
      "Recall: 0.7359550561797753\n",
      "F1 Score: 0.803680981595092\n",
      "Accuracy: 0.8128654970760234\n"
     ]
    },
    {
     "data": {
      "image/png": "[encoded data removed]",
      "text/plain": [
       "<Figure size 600x500 with 2 Axes>"
      ]
     },
     "metadata": {},
     "output_type": "display_data"
    }
   ],
   "source": [
    "# Evaluating the RNN model with Balanced Dataset:\n",
    "evaluate_with_threshold(model, X_test, y_test, threshold=0.73)  # --------------> Change Threshold Value Here! <---------------"
   ]
  },
  {
   "cell_type": "code",
   "execution_count": 26,
   "id": "56838885-75f8-4042-b1d0-58a98cac3dda",
   "metadata": {},
   "outputs": [
    {
     "name": "stdout",
     "output_type": "stream",
     "text": [
      "\n",
      "\n",
      "As can be seen, we have achieved better results. Since the separation method we have implemented in this project consists of Positives and Negatives, the Logistic Regression classification method can also work well.\n",
      "\n",
      "\n"
     ]
    }
   ],
   "source": [
    "print(\"\\n\\nAs can be seen, we have achieved better results. Since the separation method we have implemented in this project consists of Positives and Negatives, the Logistic Regression classification method can also work well.\\n\\n\")"
   ]
  },
  {
   "cell_type": "code",
   "execution_count": 27,
   "id": "9dd13099-4e5f-41d6-8206-c06ff7c99c35",
   "metadata": {},
   "outputs": [
    {
     "name": "stdout",
     "output_type": "stream",
     "text": [
      "Accuracy on the test set: 0.8216374269005848\n",
      "Precision: 0.9154929577464789\n",
      "Recall: 0.7303370786516854\n",
      "F1 Score: 0.8125\n",
      "Accuracy: 0.8245614035087719\n"
     ]
    },
    {
     "data": {
      "image/png": "[encoded data removed]",
      "text/plain": [
       "<Figure size 600x500 with 2 Axes>"
      ]
     },
     "metadata": {},
     "output_type": "display_data"
    }
   ],
   "source": [
    "#-----------------------------------------------------------------------------------------------------#\n",
    "#                                   LOGISTIC REGRESSION CLASSIFICATION                                #\n",
    "#-----------------------------------------------------------------------------------------------------#\n",
    "\n",
    "file_path = 'pre_sentiment_data.csv'\n",
    "df = pd.read_csv(file_path)\n",
    "\n",
    "MODEL_NAME = \"dbmdz/bert-base-turkish-cased\"\n",
    "tokenizer = BertTokenizer.from_pretrained(MODEL_NAME)\n",
    "model = BertModel.from_pretrained(MODEL_NAME)\n",
    "\n",
    "# Data preparation with BERT model.\n",
    "df[\"bert_embeddings\"] = df[\"text\"].apply(lambda x: get_average_embedding(x))\n",
    "sentiment_mapping = {\"pos\": 1, \"neg\": 0}\n",
    "df[\"sentiment\"] = df[\"sentiment\"].map(sentiment_mapping)\n",
    "X = list(df[\"bert_embeddings\"]) \n",
    "y = torch.tensor(df[\"sentiment\"].values, dtype=torch.long)\n",
    "\n",
    "X_train, X_test, y_train, y_test = train_test_split(X, y, test_size=0.2, random_state=42)\n",
    "\n",
    "# Converting Train and Test sets to NumPy format.\n",
    "X_train_np = np.array(X_train)\n",
    "X_test_np = np.array(X_test)\n",
    "y_train_np = y_train.numpy()\n",
    "y_test_np = y_test.numpy()\n",
    "\n",
    "# Creating and training the Logistic Regression model:\n",
    "clf = LogisticRegression(max_iter=1000)\n",
    "clf.fit(X_train_np, y_train_np)\n",
    "\n",
    "# Evaluation on the test set\n",
    "y_pred = clf.predict(X_test_np)\n",
    "accuracy = accuracy_score(y_test.numpy(), y_pred)\n",
    "print(f\"Accuracy on the test set: {accuracy}\")\n",
    "\n",
    "#-----------------------------------------------------------------------------------------------------#\n",
    "\n",
    "# Evaluating the Logistic Regression model with the desired threshold value.\n",
    "threshold = 0.7 # --------------> Change Threshold Value Here! <---------------\n",
    "\n",
    "# Converting predictions to probability values for Logistic Regression.\n",
    "y_pred_prob = clf.predict_proba(X_test_np)[:, 1]\n",
    "y_pred_threshold = (y_pred_prob > threshold).astype(int)\n",
    "\n",
    "# Precision, Recall & F1 Score calculation.\n",
    "precision, recall, f1, _ = precision_recall_fscore_support(y_test_np, y_pred_threshold, average='binary')\n",
    "print(f\"Precision: {precision}\")\n",
    "print(f\"Recall: {recall}\")\n",
    "print(f\"F1 Score: {f1}\")\n",
    "\n",
    "# Accuracy calculation.\n",
    "accuracy = accuracy_score(y_test_np, y_pred_threshold)\n",
    "print(f\"Accuracy: {accuracy}\")\n",
    "\n",
    "# # Visualization the results with Confusion Matrix:\n",
    "cm = confusion_matrix(y_test_np, y_pred_threshold)\n",
    "plt.figure(figsize=(6, 5))\n",
    "sns.heatmap(cm, annot=True, fmt='d', cmap='Blues', xticklabels=[\"Negative\", \"Positive\"], yticklabels=[\"Negative\", \"Positive\"])\n",
    "plt.title('Confusion Matrix')\n",
    "plt.ylabel('Actual')\n",
    "plt.xlabel('Predicted')\n",
    "plt.show()"
   ]
  },
  {
   "cell_type": "code",
   "execution_count": 28,
   "id": "3b6f1e05-49d8-4ff0-bbdc-7feac710c173",
   "metadata": {},
   "outputs": [
    {
     "name": "stdout",
     "output_type": "stream",
     "text": [
      "\n",
      "\n",
      "As can be seen, there is no big difference, RNN predicts positives more accurately, while Logistic Regression predicts negatives more accurately.\n",
      "\n",
      "\n"
     ]
    }
   ],
   "source": [
    "print(\"\\n\\nAs can be seen, there is no big difference, RNN predicts positives more accurately, while Logistic Regression predicts negatives more accurately.\\n\\n\")"
   ]
  }
 ],
 "metadata": {
  "kernelspec": {
   "display_name": "Python 3 (ipykernel)",
   "language": "python",
   "name": "python3"
  },
  "language_info": {
   "codemirror_mode": {
    "name": "ipython",
    "version": 3
   },
   "file_extension": ".py",
   "mimetype": "text/x-python",
   "name": "python",
   "nbconvert_exporter": "python",
   "pygments_lexer": "ipython3",
   "version": "3.9.13"
  }
 },
 "nbformat": 4,
 "nbformat_minor": 5
}
