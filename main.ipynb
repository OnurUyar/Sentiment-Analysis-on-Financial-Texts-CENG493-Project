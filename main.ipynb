{
 "cells": [
  {
   "cell_type": "code",
   "execution_count": 1,
   "id": "b88c0868-b13a-4377-be73-e59ae3b5b0ff",
   "metadata": {
    "scrolled": true
   },
   "outputs": [
    {
     "name": "stdout",
     "output_type": "stream",
     "text": [
      "WARNING:tensorflow:From C:\\Users\\gokay\\AppData\\Local\\Programs\\Python\\Python312\\Lib\\site-packages\\tf_keras\\src\\losses.py:2976: The name tf.losses.sparse_softmax_cross_entropy is deprecated. Please use tf.compat.v1.losses.sparse_softmax_cross_entropy instead.\n",
      "\n"
     ]
    }
   ],
   "source": [
    "import zemberek_grpc.language_id_pb2 as z_langid\n",
    "import zemberek_grpc.language_id_pb2_grpc as z_langid_g\n",
    "import zemberek_grpc.normalization_pb2 as z_normalization\n",
    "import zemberek_grpc.normalization_pb2_grpc as z_normalization_g\n",
    "import zemberek_grpc.preprocess_pb2 as z_preprocess\n",
    "import zemberek_grpc.preprocess_pb2_grpc as z_preprocess_g\n",
    "import zemberek_grpc.morphology_pb2 as z_morphology\n",
    "import zemberek_grpc.morphology_pb2_grpc as z_morphology_g\n",
    "import pandas as pd\n",
    "import numpy as np\n",
    "import tensorflow as tf\n",
    "import torch\n",
    "import torch.nn as nn\n",
    "import torch.optim as optim\n",
    "import re\n",
    "import sys\n",
    "import nltk\n",
    "import grpc\n",
    "import string\n",
    "import matplotlib.pyplot as plt\n",
    "import seaborn as sns\n",
    "\n",
    "from nltk.corpus import stopwords\n",
    "from sklearn.utils import resample\n",
    "from gensim.models import Word2Vec\n",
    "from transformers import BertTokenizer, BertForSequenceClassification, Trainer, TrainingArguments, BertModel\n",
    "from tensorflow.keras.models import Sequential\n",
    "from tensorflow.keras.layers import SimpleRNN, LSTM, Bidirectional, Dense, Dropout, Input\n",
    "from tensorflow.keras.preprocessing.sequence import pad_sequences\n",
    "from sklearn.metrics import accuracy_score, precision_score, recall_score, f1_score, precision_recall_fscore_support, confusion_matrix\n",
    "from sklearn.linear_model import LogisticRegression\n",
    "from sklearn.model_selection import train_test_split\n",
    "from sklearn.preprocessing import LabelEncoder\n",
    "from torch.utils.data import DataLoader, TensorDataset"
   ]
  },
  {
   "cell_type": "markdown",
   "id": "4707530f-5452-48b6-8f1c-4a02f4e6b4d7",
   "metadata": {},
   "source": [
    "# Zemberek Preprocessing"
   ]
  },
  {
   "cell_type": "code",
   "execution_count": 2,
   "id": "a67c07e6-814a-4179-8f96-0646eb879bbd",
   "metadata": {},
   "outputs": [],
   "source": [
    "# Defining functions that perform language detection, tokenization, normalization and morphological analysis\n",
    "# by connecting to ZEMBEREK-GRPC based language processing services\n",
    "\n",
    "channel = grpc.insecure_channel('localhost:6789')\n",
    "\n",
    "langid_stub = z_langid_g.LanguageIdServiceStub(channel)\n",
    "normalization_stub = z_normalization_g.NormalizationServiceStub(channel)\n",
    "preprocess_stub = z_preprocess_g.PreprocessingServiceStub(channel)\n",
    "morphology_stub = z_morphology_g.MorphologyServiceStub(channel)\n",
    "\n",
    "def find_lang_id(i):\n",
    "    response = langid_stub.Detect(z_langid.LanguageIdRequest(input=i))\n",
    "    return response.langId\n",
    "\n",
    "def tokenize(i):\n",
    "    response = preprocess_stub.Tokenize(z_preprocess.TokenizationRequest(input=i))\n",
    "    return response.tokens\n",
    "\n",
    "def normalize(i):\n",
    "    response = normalization_stub.Normalize(z_normalization.NormalizationRequest(input=i))\n",
    "    return response\n",
    "\n",
    "def analyze(i):\n",
    "    response = morphology_stub.AnalyzeSentence(z_morphology.SentenceAnalysisRequest(input=i))\n",
    "    return response;\n",
    "\n",
    "def fix_decode(text):\n",
    "    \"\"\"Pass decode.\"\"\"\n",
    "    if sys.version_info < (3, 0):\n",
    "        return text.decode('utf-8')\n",
    "    else:\n",
    "        return text"
   ]
  },
  {
   "cell_type": "code",
   "execution_count": 3,
   "id": "b130989e-2016-4fb3-af45-7e9e5e63c3fe",
   "metadata": {},
   "outputs": [
    {
     "data": {
      "text/html": [
       "<div>\n",
       "<style scoped>\n",
       "    .dataframe tbody tr th:only-of-type {\n",
       "        vertical-align: middle;\n",
       "    }\n",
       "\n",
       "    .dataframe tbody tr th {\n",
       "        vertical-align: top;\n",
       "    }\n",
       "\n",
       "    .dataframe thead th {\n",
       "        text-align: right;\n",
       "    }\n",
       "</style>\n",
       "<table border=\"1\" class=\"dataframe\">\n",
       "  <thead>\n",
       "    <tr style=\"text-align: right;\">\n",
       "      <th></th>\n",
       "      <th>text</th>\n",
       "      <th>sentiment</th>\n",
       "    </tr>\n",
       "  </thead>\n",
       "  <tbody>\n",
       "    <tr>\n",
       "      <th>0</th>\n",
       "      <td>Geçtiğimiz hafta Covid-19’a ilişkin endişeler ...</td>\n",
       "      <td>neg</td>\n",
       "    </tr>\n",
       "    <tr>\n",
       "      <th>1</th>\n",
       "      <td>Güne satıcılı başlayan sonrasında gün içi topa...</td>\n",
       "      <td>neg</td>\n",
       "    </tr>\n",
       "    <tr>\n",
       "      <th>2</th>\n",
       "      <td>Geçtiğimiz hafta ABD 10 yıllık tahvil faizleri...</td>\n",
       "      <td>neg</td>\n",
       "    </tr>\n",
       "    <tr>\n",
       "      <th>3</th>\n",
       "      <td>Ukrayna krizi kaynaklı tedirginlik küresel piy...</td>\n",
       "      <td>neg</td>\n",
       "    </tr>\n",
       "    <tr>\n",
       "      <th>4</th>\n",
       "      <td>ABD ve Birleşik Krallık hisse senedi piyasalar...</td>\n",
       "      <td>neg</td>\n",
       "    </tr>\n",
       "  </tbody>\n",
       "</table>\n",
       "</div>"
      ],
      "text/plain": [
       "                                                text sentiment\n",
       "0  Geçtiğimiz hafta Covid-19’a ilişkin endişeler ...       neg\n",
       "1  Güne satıcılı başlayan sonrasında gün içi topa...       neg\n",
       "2  Geçtiğimiz hafta ABD 10 yıllık tahvil faizleri...       neg\n",
       "3  Ukrayna krizi kaynaklı tedirginlik küresel piy...       neg\n",
       "4  ABD ve Birleşik Krallık hisse senedi piyasalar...       neg"
      ]
     },
     "execution_count": 3,
     "metadata": {},
     "output_type": "execute_result"
    }
   ],
   "source": [
    "# Loading the raw sentiment dataset.\n",
    "file_path = 'sentiment_data.csv'\n",
    "df = pd.read_csv(file_path)\n",
    "\n",
    "# Displaying the first few rows of the raw dataset.\n",
    "df.head()"
   ]
  },
  {
   "cell_type": "markdown",
   "id": "bcc89dd2-e067-4337-adce-c2314971df40",
   "metadata": {},
   "source": [
    "# TEXT PREPROCESS  "
   ]
  },
  {
   "cell_type": "code",
   "execution_count": 4,
   "id": "3124c244-c040-4396-81c4-6d42f8b02381",
   "metadata": {},
   "outputs": [],
   "source": [
    "def text_preprocess(raw_text):\n",
    "    special_terms = {\"çovid-19’a\", \"bist\", \"bist-100\"}\n",
    "    \n",
    "    # Normalizing the input.\n",
    "    normalized_text = \" \".join([\n",
    "        word if word.lower() in special_terms else normalize(word).normalized_input\n",
    "        for word in raw_text.split()\n",
    "    ])\n",
    "\n",
    "    # Applying Tokenization.\n",
    "    tokens = tokenize(normalized_text)\n",
    "\n",
    "    # Removing stopwords, numbers, and punctuations.\n",
    "    stop_words = {\"ve\", \"bir\", \"bu\", \"şu\", \"ile\", \"için\", \"çok\", \"ama\", \"da\", \"de\", \"ki\", \"eğer\"}\n",
    "    clean_tokens = [\n",
    "        token.token.lower() for token in tokens\n",
    "        if token.token not in string.punctuation\n",
    "        and not re.match(r'^[\\d\\.,%-]+$', token.token)  # Sayılar, yüzde ve özel karakterler (örn. %, -) olanları filtreler\n",
    "        and token.token.lower() not in stop_words\n",
    "    ]\n",
    "\n",
    "    # Applying Lemmatization.\n",
    "    lemmatized_tokens = []\n",
    "    for token in clean_tokens:\n",
    "        if token in special_terms:  # Applying lemmatization to special terms.\n",
    "            lemmatized_tokens.append(token)\n",
    "        else:\n",
    "            analysis_result = analyze(token)\n",
    "            for result in analysis_result.results:\n",
    "                lemmatized_tokens.append(result.best.lemmas[0] if result.best.lemmas else token)\n",
    "\n",
    "    # Returning cleaned and lemmatized text by combining the results.\n",
    "    return ' '.join(lemmatized_tokens)"
   ]
  },
  {
   "cell_type": "markdown",
   "id": "db579560-6189-43f2-85c3-b9e7ee02fdaf",
   "metadata": {},
   "source": [
    "### Data Samples"
   ]
  },
  {
   "cell_type": "code",
   "execution_count": 5,
   "id": "58952acc-c938-4725-8e4f-e791936a2c5e",
   "metadata": {},
   "outputs": [
    {
     "name": "stdout",
     "output_type": "stream",
     "text": [
      "Geçtiğimiz hafta Covid-19’a ilişkin endişeler ve piyasalardaki fiyat düzeltme beklentisi gibi faktörler neticesinde hisse senetlerinde risk iştahının zayıf seyrettiğini gözlemledik. Buna bağlı olarak BIST-100 2021 başından bu yana kazançlarını neredeyse sıfırlarken, banka hisselerinde yıl başından bu yana gördüğümüz kayıplar %8’i aştı. Yeni haftanın gündeminde Ocak ayı enflasyon verisi ve şirketlerden gelen 4. çeyrek kârları en önemli yeri tutuyor. Borsanın haftanın ilk gününde yurtdışı eğilimden etkilenerek haftaya hafif alıcılı bir başlangıç yapmasını bekliyoruz.\n"
     ]
    }
   ],
   "source": [
    "print(df[\"text\"][0])"
   ]
  },
  {
   "cell_type": "code",
   "execution_count": 6,
   "id": "44ee54c6-fa21-48d1-91d9-43a83e79fdaa",
   "metadata": {},
   "outputs": [
    {
     "name": "stdout",
     "output_type": "stream",
     "text": [
      "Dün BIST’deki düşüş üst üste sekizinci gününe girdi. Dünkü %5 üzeri kayıpla endeks yılbaşına göre %14’ün üzerinde gerilemiş oldu. Banka hisselerindeki kayıp ise dün %8’i, yılbaşına göre %23’ü buldu. Dünkü satışlarda belirgin bir haber akışı öne çıkmadı. Tarihsel veri bu denli sert düşüşler sonrası tepki geldiğini gösteriyor. Dünkü düşüş sonrası BIST-100 endeksi 100 günlük hareketli ortalamasının sadece %3.9 üzerinde seyrediyor. Endeks 18 Ekim 2021’den bu yana ortalamanın üzerinde kalmayı başardı. Ortalamaya bu denli yakınlaşması ise en son Temmuz 2022’de gerçeklemişti. Yılbaşından bu yana satışların devam etmesi 2022 yılındaki yüksek getirinin realizasyonu ve 2023’teki belirsizlik endişesine yorumlanabilir. Dün yurtdışı tarafta ise FED’in beklentiler paralelinde gelen faiz artışı sonrası temkinli iyimser bir hava hakimdi. Yurtdışı tarafta borsa endeksleri günü genelde artıda kapattı. Haber akışı açısından yarın açıklanacak Ocak ayı enflasyon verileri önem taşıyor. BIST’de bugün dünkü sertsatışlara birmiktar tepki gelebileceğini, ancak piyasanın bunun devamı konusunda temkinli hareket etmesigerektiğini düşünüyoruz.\n"
     ]
    }
   ],
   "source": [
    "print(df[\"text\"][10])"
   ]
  },
  {
   "cell_type": "code",
   "execution_count": 7,
   "id": "a53aa8f9-5a0d-4f87-8cc6-3e83cc3c139a",
   "metadata": {},
   "outputs": [
    {
     "name": "stdout",
     "output_type": "stream",
     "text": [
      "Veri trafiği hızlanıyor. Tatil sonrası veri akışı artıyor. Avrupa'da Hizmet PMI, ABD'de  İmalat ISM verileri ve Fed toplantı tutanakları bugün izlenecekler arasında yer almakta. Yıla pozitif  başlangıç yapan BİST-100 endeksinde ise 5700-5800 direnç bölgesi ön planda kaldı. Dün bu direnç  bölgede kar satışları gördük. Kısa vadede kar satışları açısından 5600-5550 aralığını takip ediyoruz.  5550 bölgesi üzerinde gündeme gelebilecek tepki alımları adına izlediğimiz dirençler sırasıyla 5670- 5710-5800.\n"
     ]
    }
   ],
   "source": [
    "print(df[\"text\"][1000])"
   ]
  },
  {
   "cell_type": "code",
   "execution_count": 8,
   "id": "a0827fe6-3812-4a82-96bf-cee88d2a631b",
   "metadata": {
    "scrolled": true
   },
   "outputs": [
    {
     "data": {
      "text/html": [
       "<div>\n",
       "<style scoped>\n",
       "    .dataframe tbody tr th:only-of-type {\n",
       "        vertical-align: middle;\n",
       "    }\n",
       "\n",
       "    .dataframe tbody tr th {\n",
       "        vertical-align: top;\n",
       "    }\n",
       "\n",
       "    .dataframe thead th {\n",
       "        text-align: right;\n",
       "    }\n",
       "</style>\n",
       "<table border=\"1\" class=\"dataframe\">\n",
       "  <thead>\n",
       "    <tr style=\"text-align: right;\">\n",
       "      <th></th>\n",
       "      <th>text</th>\n",
       "      <th>sentiment</th>\n",
       "    </tr>\n",
       "  </thead>\n",
       "  <tbody>\n",
       "    <tr>\n",
       "      <th>0</th>\n",
       "      <td>geç hafta çovid-19’a ilişkin endişe piyasa fiy...</td>\n",
       "      <td>neg</td>\n",
       "    </tr>\n",
       "    <tr>\n",
       "      <th>1</th>\n",
       "      <td>gün sat başla sonra gün iç toparla artı geçen ...</td>\n",
       "      <td>neg</td>\n",
       "    </tr>\n",
       "    <tr>\n",
       "      <th>2</th>\n",
       "      <td>geç hafta abd yıllık tahvil faiz gözle sıçra k...</td>\n",
       "      <td>neg</td>\n",
       "    </tr>\n",
       "    <tr>\n",
       "      <th>3</th>\n",
       "      <td>ukrayna kriz kaynak tedirgin küresel piyasa et...</td>\n",
       "      <td>neg</td>\n",
       "    </tr>\n",
       "    <tr>\n",
       "      <th>4</th>\n",
       "      <td>abd birleşik krallık hisse senet piyasa kapalı...</td>\n",
       "      <td>neg</td>\n",
       "    </tr>\n",
       "  </tbody>\n",
       "</table>\n",
       "</div>"
      ],
      "text/plain": [
       "                                                text sentiment\n",
       "0  geç hafta çovid-19’a ilişkin endişe piyasa fiy...       neg\n",
       "1  gün sat başla sonra gün iç toparla artı geçen ...       neg\n",
       "2  geç hafta abd yıllık tahvil faiz gözle sıçra k...       neg\n",
       "3  ukrayna kriz kaynak tedirgin küresel piyasa et...       neg\n",
       "4  abd birleşik krallık hisse senet piyasa kapalı...       neg"
      ]
     },
     "execution_count": 8,
     "metadata": {},
     "output_type": "execute_result"
    }
   ],
   "source": [
    "# Applying Text Preprocessing to the raw dataset.\n",
    "df[\"text\"] = df[\"text\"].apply(text_preprocess)\n",
    "\n",
    "df.head()"
   ]
  },
  {
   "cell_type": "markdown",
   "id": "85ccb9cb-ee32-4b88-a403-94157089932b",
   "metadata": {},
   "source": [
    "### Preprocessed Data Samples"
   ]
  },
  {
   "cell_type": "code",
   "execution_count": 9,
   "id": "fb8f6f71-383f-4e81-adfd-4f434d461e30",
   "metadata": {},
   "outputs": [
    {
     "name": "stdout",
     "output_type": "stream",
     "text": [
      "geç hafta çovid-19’a ilişkin endişe piyasa fiyat düzel beklenti gibi faktör netice hisse senet risk iştah zayıf seyret gözlemle bu bağ ol bist-100 baş yan kazanç neredeyse sıfırla banka hisse yıl baş yan gör kayıp %8 aş yeni hafta gündem ocak ayı enflasyon veri şirket gel çeyrek kar en önem yer tut borsa hafta ilk gün yurtdışı eğilim etkile hafta hafif al başlangıç yap bekle\n"
     ]
    }
   ],
   "source": [
    "print(df[\"text\"][0])"
   ]
  },
  {
   "cell_type": "code",
   "execution_count": 10,
   "id": "6e813171-db4b-4e30-9013-e046f5e5f62d",
   "metadata": {},
   "outputs": [
    {
     "name": "stdout",
     "output_type": "stream",
     "text": [
      "dün UNK düş üst üste sekizinci gün gir dün üzeri kayıp endeks yılbaşı göre %14 üzeri gerile ol banka hisse kayıp iş dün %8 yılbaşı göre %23 bul dün sat belirgin haber ak one çık tarih veri denli sert düş sonra tepki gel göster dün düş sonra bist-100 endeks günlük hareket ortalama sadece üzeri seyret endeks ekim 2021 yan ortalama üzeri kal başar ortalama denli yakın iş en sen temmuz 2022 gerçekle yılbaş yan sat devam et yıl yüksek getiri realizasyon 2023 belirsiz endişe yorumla dün yurtdışı taraf iş fed beklenti paralel gel faiz artı sonra temkin iyimser hava haki yurtdışı taraf borsa endeks gün genelde artı kapa haber ak açı yarın açıkla ocak ayı enflasyon veri önem taşı UNK bugün dün UNK miktar tepki gel ancak piyasa bu devam konu temkin hareket UNK düşün\n"
     ]
    }
   ],
   "source": [
    "print(df[\"text\"][10])"
   ]
  },
  {
   "cell_type": "code",
   "execution_count": 11,
   "id": "d6f03c7a-dffc-4965-804c-fe3032b05855",
   "metadata": {},
   "outputs": [
    {
     "name": "stdout",
     "output_type": "stream",
     "text": [
      "veri trafik hız tatil sonra veri ak art avrupa hizmet pmı abd imalat UNK veri fed toplantı tutanak bugün izle ara yer al yıl pozitif başlangıç yap bist-100 endeks iş direnç bölge on plan kal dün direnç bölge kar sat gör kısa vade kar sat açı aralık takip et bölge üzeri gündem gel tepki alım ad izle direnç sıra\n"
     ]
    }
   ],
   "source": [
    "print(df[\"text\"][1000])"
   ]
  },
  {
   "cell_type": "code",
   "execution_count": 12,
   "id": "dd251883-e083-4cee-be3f-ae7954617722",
   "metadata": {},
   "outputs": [
    {
     "name": "stdout",
     "output_type": "stream",
     "text": [
      "Processed data saved as: pre_sentiment_data.csv\n"
     ]
    }
   ],
   "source": [
    "# Saving preprocessed data to a new CSV file to save time.\n",
    "output_file_path = 'pre_sentiment_data.csv'\n",
    "df.to_csv(output_file_path, index=False, encoding='utf-8')\n",
    "\n",
    "print(f\"Processed data saved as: {output_file_path}\")"
   ]
  },
  {
   "cell_type": "code",
   "execution_count": 13,
   "id": "8e62647f-fc51-40da-abc4-4d6c82a03436",
   "metadata": {},
   "outputs": [
    {
     "data": {
      "text/html": [
       "<div>\n",
       "<style scoped>\n",
       "    .dataframe tbody tr th:only-of-type {\n",
       "        vertical-align: middle;\n",
       "    }\n",
       "\n",
       "    .dataframe tbody tr th {\n",
       "        vertical-align: top;\n",
       "    }\n",
       "\n",
       "    .dataframe thead th {\n",
       "        text-align: right;\n",
       "    }\n",
       "</style>\n",
       "<table border=\"1\" class=\"dataframe\">\n",
       "  <thead>\n",
       "    <tr style=\"text-align: right;\">\n",
       "      <th></th>\n",
       "      <th>text</th>\n",
       "      <th>sentiment</th>\n",
       "    </tr>\n",
       "  </thead>\n",
       "  <tbody>\n",
       "    <tr>\n",
       "      <th>0</th>\n",
       "      <td>geç hafta çovid-19’a ilişkin endişe piyasa fiy...</td>\n",
       "      <td>neg</td>\n",
       "    </tr>\n",
       "    <tr>\n",
       "      <th>1</th>\n",
       "      <td>gün sat başla sonra gün iç toparla artı geçen ...</td>\n",
       "      <td>neg</td>\n",
       "    </tr>\n",
       "    <tr>\n",
       "      <th>2</th>\n",
       "      <td>geç hafta abd yıllık tahvil faiz gözle sıçra k...</td>\n",
       "      <td>neg</td>\n",
       "    </tr>\n",
       "    <tr>\n",
       "      <th>3</th>\n",
       "      <td>ukrayna kriz kaynak tedirgin küresel piyasa et...</td>\n",
       "      <td>neg</td>\n",
       "    </tr>\n",
       "    <tr>\n",
       "      <th>4</th>\n",
       "      <td>abd birleşik krallık hisse senet piyasa kapalı...</td>\n",
       "      <td>neg</td>\n",
       "    </tr>\n",
       "  </tbody>\n",
       "</table>\n",
       "</div>"
      ],
      "text/plain": [
       "                                                text sentiment\n",
       "0  geç hafta çovid-19’a ilişkin endişe piyasa fiy...       neg\n",
       "1  gün sat başla sonra gün iç toparla artı geçen ...       neg\n",
       "2  geç hafta abd yıllık tahvil faiz gözle sıçra k...       neg\n",
       "3  ukrayna kriz kaynak tedirgin küresel piyasa et...       neg\n",
       "4  abd birleşik krallık hisse senet piyasa kapalı...       neg"
      ]
     },
     "execution_count": 13,
     "metadata": {},
     "output_type": "execute_result"
    }
   ],
   "source": [
    "# Changing the data frame with preprocessed data.\n",
    "file_path = 'pre_sentiment_data.csv'\n",
    "df = pd.read_csv(file_path)\n",
    "\n",
    "# Displaying the first few rows of the new dataframe.\n",
    "df.head()"
   ]
  },
  {
   "cell_type": "markdown",
   "id": "989dbf07-849a-4994-bedc-5b5c43919644",
   "metadata": {},
   "source": [
    "### Sentiment distribution (negative and positive)"
   ]
  },
  {
   "cell_type": "code",
   "execution_count": 14,
   "id": "9b7f958f-243e-46d3-a45a-baf8fb55342d",
   "metadata": {},
   "outputs": [
    {
     "data": {
      "image/png": "[encoded data removed]",
      "text/plain": [
       "<Figure size 700x700 with 1 Axes>"
      ]
     },
     "metadata": {},
     "output_type": "display_data"
    }
   ],
   "source": [
    "\n",
    "sentiment_distribution = df[\"sentiment\"].value_counts()\n",
    "\n",
    "# Pie Chart\n",
    "plt.figure(figsize=(7, 7))\n",
    "plt.pie(sentiment_distribution, labels=[\"Positive\", \"Negative\"], autopct='%1.1f%%', startangle=90, colors=[\"#FF9999\", \"#66B2FF\"])\n",
    "plt.title('Sentiment Distribution (Positive vs Negative)')\n",
    "plt.axis('equal')\n",
    "plt.show()"
   ]
  },
  {
   "cell_type": "markdown",
   "id": "5a9eb7bd-bb6b-4338-83d5-2f85891d8e74",
   "metadata": {},
   "source": [
    "# WORD2VEC EMBEDDING  "
   ]
  },
  {
   "cell_type": "code",
   "execution_count": 15,
   "id": "64e0f947-dedb-421a-8b83-c7ed10b53d60",
   "metadata": {
    "scrolled": true
   },
   "outputs": [
    {
     "name": "stdout",
     "output_type": "stream",
     "text": [
      "[ 0.20626007 -0.04971341  0.03557171  0.27297124 -0.17374884 -0.22931683\n",
      "  0.09127041  0.28539354 -0.126714    0.08068453 -0.1279823  -0.23399043\n",
      " -0.26682264 -0.26179722 -0.20955881 -0.12152415 -0.09946585 -0.46194035\n",
      " -0.11488605 -0.24758251  0.28485158 -0.15841468 -0.07148001 -0.00631528\n",
      " -0.19324376  0.00130231 -0.33702087 -0.03022442  0.2888558  -0.3179784\n",
      "  0.34915113  0.33339     0.42003042 -0.14328915 -0.07005659 -0.17806858\n",
      "  0.2924282   0.29795355  0.12765637 -0.00461084 -0.00192786 -0.15024443\n",
      "  0.04095566  0.24539033 -0.30669054  0.04294789 -0.2543391  -0.2584963\n",
      "  0.25510052  0.01883505 -0.19553892  0.0810427   0.32993895  0.12305178\n",
      "  0.21367535  0.14399956 -0.0980177  -0.40320104 -0.4224043   0.39634576\n",
      " -0.10716596 -0.13294809  0.66087884  0.09610549  0.29483938 -0.00399594\n",
      " -0.311963    0.09796407 -0.18005727 -0.04446014 -0.05401109 -0.11859277\n",
      "  0.3362762   0.32192168  0.27256092  0.05928766  0.01145935  0.26169428\n",
      "  0.15879953  0.05078218 -0.08298895  0.06954476 -0.380703    0.41052493\n",
      " -0.34648925  0.09363237  0.44332397  0.4345608   0.5653653   0.12913392\n",
      "  0.39975417  0.2175952   0.30101067  0.02966101  0.04746396  0.09305445\n",
      "  0.03573728 -0.14765023 -0.11367059 -0.4938384 ]\n",
      "\n",
      "Word2Vec model saved as 'word2vec_model.model'\n"
     ]
    }
   ],
   "source": [
    "# Splitting text into tokens.\n",
    "sentences = [text.split() for text in df['text']]\n",
    "\n",
    "# Creating and training the Word2Vec model:\n",
    "word2vec_model = Word2Vec(\n",
    "    sentences=sentences,\n",
    "    vector_size=100,        # -----------------> Change VECTOR Size <-----------------\n",
    "    window=5,               # -----------------> Change Window Size <-----------------\n",
    "    min_count=2,            # ------------> Change Minimum Word Frequency <-----------\n",
    "    workers=4,              # ------------> Change Number of Processors <-------------\n",
    "    sg=1                    # ------------> (1 = Skip-gram, 0 = CBOW) <---------------\n",
    ")\n",
    "\n",
    "# Displaying the vector of an example word:\n",
    "print(word2vec_model.wv['banka'])  # -----------------> Change Example Word <-----------------\n",
    "\n",
    "# Saving the model.\n",
    "word2vec_model.save(\"word2vec_model.model\")\n",
    "print(\"\\nWord2Vec model saved as 'word2vec_model.model'\")"
   ]
  },
  {
   "cell_type": "code",
   "execution_count": 16,
   "id": "31f409c9-0ba7-4772-8d06-c69792437762",
   "metadata": {},
   "outputs": [],
   "source": [
    "# Encoding labels as positive & negative.\n",
    "label_encoder = LabelEncoder()\n",
    "df['sentiment'] = label_encoder.fit_transform(df['sentiment'])\n",
    "\n",
    "# Splitting the data into Training and Test sets.\n",
    "X = df['text'].values\n",
    "y = df['sentiment'].values\n",
    "X_train, X_test, y_train, y_test = train_test_split(X, y, test_size=0.2, random_state=42)\n",
    "\n",
    "# Importing Word2Vec model.\n",
    "word2vec_model = Word2Vec.load(\"word2vec_model.model\")\n",
    "\n",
    "# Converting words to Word2Vec vectors.\n",
    "def text_to_word2vec(text, model, vector_size=100): # ----------> Change VECTOR Size Here! <----------\n",
    "    return [model.wv[word] if word in model.wv else np.zeros(vector_size) for word in text.split()]\n",
    "\n",
    "X_train_vec = [text_to_word2vec(text, word2vec_model) for text in X_train]\n",
    "X_test_vec = [text_to_word2vec(text, word2vec_model) for text in X_test]\n",
    "\n",
    "max_length = 100  # Maximum sentence length."
   ]
  },
  {
   "cell_type": "markdown",
   "id": "388b579f-f955-4768-81b1-fd71ca797f23",
   "metadata": {},
   "source": [
    "# LSTM (LONG SHORT-TERM MEMORY)"
   ]
  },
  {
   "cell_type": "code",
   "execution_count": 17,
   "id": "54f23a4b-8273-47f8-85cc-23120b42ab17",
   "metadata": {
    "scrolled": true
   },
   "outputs": [
    {
     "name": "stdout",
     "output_type": "stream",
     "text": [
      "X_train_pad shape: (1364, 100, 100)\n",
      "X_test_pad shape: (342, 100, 100)\n",
      "Epoch 1/5\n",
      "\u001b[1m22/22\u001b[0m \u001b[32m━━━━━━━━━━━━━━━━━━━━\u001b[0m\u001b[37m\u001b[0m \u001b[1m6s\u001b[0m 133ms/step - accuracy: 0.5534 - loss: 0.9728 - val_accuracy: 0.5205 - val_loss: 0.7077\n",
      "Epoch 2/5\n",
      "\u001b[1m22/22\u001b[0m \u001b[32m━━━━━━━━━━━━━━━━━━━━\u001b[0m\u001b[37m\u001b[0m \u001b[1m2s\u001b[0m 108ms/step - accuracy: 0.5357 - loss: 0.8962 - val_accuracy: 0.5234 - val_loss: 0.6747\n",
      "Epoch 3/5\n",
      "\u001b[1m22/22\u001b[0m \u001b[32m━━━━━━━━━━━━━━━━━━━━\u001b[0m\u001b[37m\u001b[0m \u001b[1m2s\u001b[0m 103ms/step - accuracy: 0.6102 - loss: 817065.3125 - val_accuracy: 0.5819 - val_loss: 0.6516\n",
      "Epoch 4/5\n",
      "\u001b[1m22/22\u001b[0m \u001b[32m━━━━━━━━━━━━━━━━━━━━\u001b[0m\u001b[37m\u001b[0m \u001b[1m2s\u001b[0m 104ms/step - accuracy: 0.6026 - loss: 0.8894 - val_accuracy: 0.5263 - val_loss: 1.2803\n",
      "Epoch 5/5\n",
      "\u001b[1m22/22\u001b[0m \u001b[32m━━━━━━━━━━━━━━━━━━━━\u001b[0m\u001b[37m\u001b[0m \u001b[1m2s\u001b[0m 103ms/step - accuracy: 0.5644 - loss: 2.1086 - val_accuracy: 0.5234 - val_loss: 0.6689\n",
      "\u001b[1m11/11\u001b[0m \u001b[32m━━━━━━━━━━━━━━━━━━━━\u001b[0m\u001b[37m\u001b[0m \u001b[1m0s\u001b[0m 21ms/step - accuracy: 0.5175 - loss: 0.6735\n",
      "\u001b[1m11/11\u001b[0m \u001b[32m━━━━━━━━━━━━━━━━━━━━\u001b[0m\u001b[37m\u001b[0m \u001b[1m1s\u001b[0m 51ms/step \n",
      "\n",
      "Word2Vec LSTM Model Test Accuracy: 52.34%\n",
      "Word2Vec LSTM Model Test Precision: 0.52\n",
      "Word2Vec LSTM Model Test Recall: 0.98\n",
      "Word2Vec LSTM Model Test F1-Score: 0.68\n"
     ]
    }
   ],
   "source": [
    "# Manual padding:\n",
    "def pad_word_vectors(sequences, max_length, vector_size=100): # ------> Change VECTOR Size Here! <-----\n",
    "    padded_sequences = np.zeros((len(sequences), max_length, vector_size))\n",
    "    for i, seq in enumerate(sequences):\n",
    "        for j, word_vec in enumerate(seq):\n",
    "            if j < max_length:\n",
    "                padded_sequences[i, j] = word_vec\n",
    "    return padded_sequences\n",
    "\n",
    "X_train_pad = pad_word_vectors(X_train_vec, max_length)\n",
    "X_test_pad = pad_word_vectors(X_test_vec, max_length)\n",
    "\n",
    "# Displaying the padded data.\n",
    "print(\"X_train_pad shape:\", X_train_pad.shape)  # (num_samples, max_sequence_length, embedding_dim)\n",
    "print(\"X_test_pad shape:\", X_test_pad.shape)\n",
    "\n",
    "#-----------------------------------------------------------------------------------------------------#\n",
    "\n",
    "# Making the model:\n",
    "model = Sequential()\n",
    "\n",
    "# Adding the Input layer:\n",
    "model.add(Input(shape=(max_length, 100)))  # --------------> Change VECTOR Size Here! <---------------\n",
    "\n",
    "# Adding the Bidirectional LSTM Layer:\n",
    "model.add(Bidirectional(LSTM(128, activation='relu', return_sequences=False)))\n",
    "\n",
    "# Adding the Dropout Layer:\n",
    "model.add(Dropout(0.5))\n",
    "\n",
    "# Adding the Output layer: (sigmoid activation function for binary classification)\n",
    "model.add(Dense(1, activation='sigmoid'))\n",
    "\n",
    "# Compiling the model:\n",
    "model.compile(optimizer='adam', loss='binary_crossentropy', metrics=['accuracy'])\n",
    "\n",
    "# (Using class weights if there is a class imbalance.)\n",
    "class_weights = {0: 1., 1: 2.}\n",
    "\n",
    "# Training the model:\n",
    "model.fit(X_train_pad, y_train, epochs=5, batch_size=64, validation_data=(X_test_pad, y_test), class_weight=class_weights)\n",
    "\n",
    "# Evaluating the accuracy of the model:\n",
    "loss, accuracy = model.evaluate(X_test_pad, y_test)\n",
    "\n",
    "# Making predictions:\n",
    "y_pred_prob = model.predict(X_test_pad)\n",
    "y_pred = (y_pred_prob > 0.5).astype(int)\n",
    "\n",
    "# Calculating Precision, Recall, and F1-Score:\n",
    "precision = precision_score(y_test, y_pred)\n",
    "recall = recall_score(y_test, y_pred)\n",
    "f1 = f1_score(y_test, y_pred)\n",
    "\n",
    "# Printing the results:\n",
    "print(f'\\nWord2Vec LSTM Model Test Accuracy: {accuracy * 100:.2f}%')\n",
    "print(f\"Word2Vec LSTM Model Test Precision: {precision:.2f}\") # True positive predictions among all positive predictions.\n",
    "print(f\"Word2Vec LSTM Model Test Recall: {recall:.2f}\") # True positive predictions among all actual positive instances\n",
    "print(f\"Word2Vec LSTM Model Test F1-Score: {f1:.2f}\")"
   ]
  },
  {
   "cell_type": "markdown",
   "id": "88ab9e6f-c501-4d2b-8ae5-3acff8e4da6a",
   "metadata": {},
   "source": [
    "# RNN (RECURRENT NEURAL NETWORK) "
   ]
  },
  {
   "cell_type": "code",
   "execution_count": 18,
   "id": "dd14c10b-cba3-4880-88c4-6a2a7eb70e16",
   "metadata": {},
   "outputs": [
    {
     "name": "stdout",
     "output_type": "stream",
     "text": [
      "X_train_pad shape: (1364, 100, 100)\n",
      "X_test_pad shape: (342, 100, 100)\n",
      "Epoch 1/5\n",
      "\u001b[1m22/22\u001b[0m \u001b[32m━━━━━━━━━━━━━━━━━━━━\u001b[0m\u001b[37m\u001b[0m \u001b[1m2s\u001b[0m 35ms/step - accuracy: 0.5247 - loss: 0.6922 - val_accuracy: 0.5409 - val_loss: 0.6789\n",
      "Epoch 2/5\n",
      "\u001b[1m22/22\u001b[0m \u001b[32m━━━━━━━━━━━━━━━━━━━━\u001b[0m\u001b[37m\u001b[0m \u001b[1m1s\u001b[0m 22ms/step - accuracy: 0.5906 - loss: 0.6602 - val_accuracy: 0.5468 - val_loss: 0.6759\n",
      "Epoch 3/5\n",
      "\u001b[1m22/22\u001b[0m \u001b[32m━━━━━━━━━━━━━━━━━━━━\u001b[0m\u001b[37m\u001b[0m \u001b[1m0s\u001b[0m 21ms/step - accuracy: 0.5871 - loss: 0.6640 - val_accuracy: 0.5497 - val_loss: 0.6582\n",
      "Epoch 4/5\n",
      "\u001b[1m22/22\u001b[0m \u001b[32m━━━━━━━━━━━━━━━━━━━━\u001b[0m\u001b[37m\u001b[0m \u001b[1m1s\u001b[0m 22ms/step - accuracy: 0.6086 - loss: 0.6301 - val_accuracy: 0.5673 - val_loss: 0.6501\n",
      "Epoch 5/5\n",
      "\u001b[1m22/22\u001b[0m \u001b[32m━━━━━━━━━━━━━━━━━━━━\u001b[0m\u001b[37m\u001b[0m \u001b[1m1s\u001b[0m 22ms/step - accuracy: 0.6261 - loss: 0.6126 - val_accuracy: 0.5673 - val_loss: 0.6453\n",
      "\u001b[1m11/11\u001b[0m \u001b[32m━━━━━━━━━━━━━━━━━━━━\u001b[0m\u001b[37m\u001b[0m \u001b[1m0s\u001b[0m 8ms/step - accuracy: 0.5591 - loss: 0.6435 \n",
      "\u001b[1m11/11\u001b[0m \u001b[32m━━━━━━━━━━━━━━━━━━━━\u001b[0m\u001b[37m\u001b[0m \u001b[1m0s\u001b[0m 19ms/step \n",
      "\n",
      "Word2Vec RNN Model Test Accuracy: 56.73%\n",
      "Word2Vec RNN Model Test Precision: 0.55\n",
      "Word2Vec RNN Model Test Recall: 0.89\n",
      "Word2Vec RNN Model Test F1-Score: 0.68\n"
     ]
    }
   ],
   "source": [
    "# Keras Based Padding:\n",
    "X_train_pad = pad_sequences(X_train_vec, maxlen=max_length, dtype='object', padding='post', truncating='post')\n",
    "X_test_pad = pad_sequences(X_test_vec, maxlen=max_length, dtype='object', padding='post', truncating='post')\n",
    "\n",
    "# Editing the data to be in the correct 3D format.\n",
    "X_train_pad = np.array([np.array(sentence) for sentence in X_train_pad], dtype='float32')\n",
    "X_test_pad = np.array([np.array(sentence) for sentence in X_test_pad], dtype='float32')\n",
    "\n",
    "# Displaying the padded data.\n",
    "print(f\"X_train_pad shape: {X_train_pad.shape}\") # (num_samples, max_sequence_length, embedding_dim)\n",
    "print(f\"X_test_pad shape: {X_test_pad.shape}\")\n",
    "\n",
    "#-----------------------------------------------------------------------------------------------------#\n",
    "\n",
    "# Making the model:\n",
    "model = Sequential()\n",
    "\n",
    "# Adding the Input layer:\n",
    "model.add(Input(shape=(max_length, 100)))  # --------------> Change VECTOR Size Here! <---------------\n",
    "\n",
    "# Adding the RNN Layer:\n",
    "model.add(SimpleRNN(128, activation='relu', return_sequences=False))\n",
    "\n",
    "# Adding the Dropout Layer:\n",
    "model.add(Dropout(0.5))\n",
    "\n",
    "# Adding the Output layer: (sigmoid activation function for binary classification)\n",
    "model.add(Dense(1, activation='sigmoid'))\n",
    "\n",
    "# Compiling the model:\n",
    "model.compile(optimizer='adam', loss='binary_crossentropy', metrics=['accuracy'])\n",
    "\n",
    "# Training the model:\n",
    "model.fit(X_train_pad, y_train, epochs=5, batch_size=64, validation_data=(X_test_pad, y_test))\n",
    "\n",
    "# Evaluating the accuracy of the model:\n",
    "loss, accuracy = model.evaluate(X_test_pad, y_test)\n",
    "\n",
    "# Making predictions:\n",
    "y_pred_prob = model.predict(X_test_pad)\n",
    "y_pred = (y_pred_prob > 0.5).astype(int)\n",
    "\n",
    "# Calculating Precision, Recall, and F1-Score:\n",
    "precision = precision_score(y_test, y_pred)\n",
    "recall = recall_score(y_test, y_pred)\n",
    "f1 = f1_score(y_test, y_pred)\n",
    "\n",
    "# Printing the results:\n",
    "print(f'\\nWord2Vec RNN Model Test Accuracy: {accuracy * 100:.2f}%')\n",
    "print(f\"Word2Vec RNN Model Test Precision: {precision:.2f}\") # True positive predictions among all positive predictions.\n",
    "print(f\"Word2Vec RNN Model Test Recall: {recall:.2f}\") # True positive predictions among all actual positive instances\n",
    "print(f\"Word2Vec RNN Model Test F1-Score: {f1:.2f}\")"
   ]
  },
  {
   "cell_type": "code",
   "execution_count": 19,
   "id": "72eeabfc-8dc2-4fe0-844b-aa8441410134",
   "metadata": {
    "scrolled": true
   },
   "outputs": [
    {
     "name": "stdout",
     "output_type": "stream",
     "text": [
      "\n",
      "\n",
      "The results show that Word2Vec embedding cannot meet the desired values in creating the model we want. (Different parameters were tried while creating Word2Vec, but Accuracy and F1 Score differed only by ±5% from the existing results.)\n",
      "\n",
      "\n"
     ]
    }
   ],
   "source": [
    "print(\"\\n\\nThe results show that Word2Vec embedding cannot meet the desired values in creating the model we want. (Different parameters were tried while creating Word2Vec, but Accuracy and F1 Score differed only by ±5% from the existing results.)\\n\\n\")"
   ]
  },
  {
   "cell_type": "markdown",
   "id": "aff14849-52fb-4055-9105-5a1073acd6a8",
   "metadata": {},
   "source": [
    "# BERTURK EMBEDDING   "
   ]
  },
  {
   "cell_type": "code",
   "execution_count": 82,
   "id": "37c082c0-abdd-44f2-8251-7c33c4e714ce",
   "metadata": {},
   "outputs": [],
   "source": [
    "file_path = 'pre_sentiment_data.csv'\n",
    "df = pd.read_csv(file_path)\n",
    "\n",
    "MODEL_NAME = \"dbmdz/bert-base-turkish-cased\"\n",
    "tokenizer = BertTokenizer.from_pretrained(MODEL_NAME)\n",
    "model = BertModel.from_pretrained(MODEL_NAME)\n",
    "\n",
    "# Getting average embeddings using BERT model:\n",
    "def get_average_embedding(text):\n",
    "    # Tokenizing.\n",
    "    inputs = tokenizer(text, return_tensors=\"pt\", truncation=True, padding=True, max_length=512)\n",
    "    \n",
    "    with torch.no_grad():\n",
    "        outputs = model(**inputs)\n",
    "        embeddings = outputs.last_hidden_state  # [batch_size, seq_length, hidden_size]\n",
    "        \n",
    "    # Average the embeddings of all words in the sentence.\n",
    "    avg_embedding = torch.mean(embeddings, dim=1)  # [batch_size, hidden_size]\n",
    "    return avg_embedding.squeeze().numpy()"
   ]
  },
  {
   "cell_type": "markdown",
   "id": "ed4dd5c3-f4a1-44db-8b85-70b7736e70e6",
   "metadata": {},
   "source": [
    "# RNN - LSTM"
   ]
  },
  {
   "cell_type": "code",
   "execution_count": 83,
   "id": "9cbeeb96-6914-40a6-9f11-7c1a89bf2c6d",
   "metadata": {
    "scrolled": true
   },
   "outputs": [
    {
     "name": "stdout",
     "output_type": "stream",
     "text": [
      "torch.Size([1364, 1, 768]) torch.Size([1364])\n",
      "torch.Size([342, 1, 768]) torch.Size([342])\n",
      "tensor([0, 1])\n",
      "tensor([0, 1])\n"
     ]
    }
   ],
   "source": [
    "class RNNModel(nn.Module):\n",
    "    def __init__(self, input_dim, hidden_dim, output_dim):\n",
    "        super(RNNModel, self).__init__()\n",
    "        self.rnn = nn.LSTM(input_dim, hidden_dim, batch_first=True)\n",
    "        self.fc = nn.Linear(hidden_dim, output_dim)\n",
    "\n",
    "    def forward(self, x):\n",
    "        rnn_out, _ = self.rnn(x)\n",
    "        out = rnn_out[:, -1, :]\n",
    "        out = self.fc(out)\n",
    "        return out\n",
    "\n",
    "# Data preparation with BERT model.\n",
    "df[\"bert_embeddings\"] = df[\"text\"].apply(lambda x: get_average_embedding(x))\n",
    "sentiment_mapping = {\"pos\": 1, \"neg\": 0}\n",
    "df[\"sentiment\"] = df[\"sentiment\"].map(sentiment_mapping)\n",
    "X = torch.stack([torch.tensor(embed) for embed in df[\"bert_embeddings\"].values]).unsqueeze(1)\n",
    "y = torch.tensor(df[\"sentiment\"].values, dtype=torch.long)\n",
    "\n",
    "X_train, X_test, y_train, y_test = train_test_split(X, y, test_size=0.2, random_state=42)\n",
    "print(X_train.shape, y_train.shape)\n",
    "print(X_test.shape, y_test.shape)\n",
    "\n",
    "print(y_train.unique())\n",
    "print(y_test.unique())\n",
    "\n",
    "# Defining layers, model, loss & optimizer.\n",
    "input_dim = X_train.shape[2]\n",
    "hidden_dim = 128\n",
    "output_dim = 2\n",
    "model = RNNModel(input_dim, hidden_dim, output_dim)\n",
    "criterion = nn.CrossEntropyLoss()\n",
    "optimizer = optim.Adam(model.parameters(), lr=0.001)\n",
    "\n",
    "# Training the RNN model.\n",
    "def train_model(model, X_train, y_train, epochs=20, batch_size=32):\n",
    "    model.train()\n",
    "    for epoch in range(epochs):\n",
    "        for i in range(0, len(X_train), batch_size):\n",
    "            batch_X = X_train[i:i+batch_size]\n",
    "            batch_y = y_train[i:i+batch_size]\n",
    "            optimizer.zero_grad()\n",
    "            outputs = model(batch_X)\n",
    "            loss = criterion(outputs, batch_y)\n",
    "            loss.backward()\n",
    "            optimizer.step()\n",
    "        print(f'Epoch {epoch+1}/{epochs}, Loss: {loss.item()}')"
   ]
  },
  {
   "cell_type": "code",
   "execution_count": 84,
   "id": "0999164b-45ce-4355-8e13-8362756195d9",
   "metadata": {
    "scrolled": true
   },
   "outputs": [
    {
     "name": "stdout",
     "output_type": "stream",
     "text": [
      "Epoch 1/20, Loss: 0.4676976203918457\n",
      "Epoch 2/20, Loss: 0.3889662027359009\n",
      "Epoch 3/20, Loss: 0.3775922358036041\n",
      "Epoch 4/20, Loss: 0.33040130138397217\n",
      "Epoch 5/20, Loss: 0.31102225184440613\n",
      "Epoch 6/20, Loss: 0.2971077561378479\n",
      "Epoch 7/20, Loss: 0.2874600291252136\n",
      "Epoch 8/20, Loss: 0.2732262909412384\n",
      "Epoch 9/20, Loss: 0.26310625672340393\n",
      "Epoch 10/20, Loss: 0.24901390075683594\n",
      "Epoch 11/20, Loss: 0.24019524455070496\n",
      "Epoch 12/20, Loss: 0.22685988247394562\n",
      "Epoch 13/20, Loss: 0.21506325900554657\n",
      "Epoch 14/20, Loss: 0.19979044795036316\n",
      "Epoch 15/20, Loss: 0.18225939571857452\n",
      "Epoch 16/20, Loss: 0.17570553719997406\n",
      "Epoch 17/20, Loss: 0.15831616520881653\n",
      "Epoch 18/20, Loss: 0.14885804057121277\n",
      "Epoch 19/20, Loss: 0.13274312019348145\n",
      "Epoch 20/20, Loss: 0.12771844863891602\n"
     ]
    }
   ],
   "source": [
    "train_model(model, X_train, y_train)"
   ]
  },
  {
   "cell_type": "markdown",
   "id": "476544dd-842e-4f3c-8e38-542eb8cb1f2f",
   "metadata": {},
   "source": [
    "# Evaluating the model with the desired threshold value."
   ]
  },
  {
   "cell_type": "code",
   "execution_count": 90,
   "id": "7400807c-d10e-4288-921d-67d62b22529d",
   "metadata": {},
   "outputs": [
    {
     "name": "stdout",
     "output_type": "stream",
     "text": [
      "Precision: 0.8579545454545454\n",
      "Recall: 0.848314606741573\n",
      "F1 Score: 0.8531073446327684\n",
      "Accuracy: 0.847953216374269\n"
     ]
    },
    {
     "data": {
      "image/png": "[encoded data removed]",
      "text/plain": [
       "<Figure size 600x500 with 2 Axes>"
      ]
     },
     "metadata": {},
     "output_type": "display_data"
    }
   ],
   "source": [
    "def evaluate_with_threshold(model, X_test, y_test, threshold=0.5):\n",
    "    \n",
    "    # Moving model and data to the appropriate device, if there is a processor mismatch.\n",
    "    device = torch.device('cuda' if torch.cuda.is_available() else 'cpu')\n",
    "    model = model.to(device)\n",
    "    X_test = X_test.to(device)\n",
    "    y_test = y_test.to(device)\n",
    "    \n",
    "    model.eval()\n",
    "    with torch.no_grad():\n",
    "        outputs = model(X_test) # Ensuring the output is also on the correct device.\n",
    "        probabilities = torch.softmax(outputs, dim=1)[:, 1]  # (Positive Class Probabilities)\n",
    "        \n",
    "        # Applying threshold to make predictions.\n",
    "        y_pred = (probabilities > threshold).int()\n",
    "\n",
    "    y_test_np = y_test.cpu().numpy()\n",
    "    y_pred_np = y_pred.cpu().numpy()\n",
    "    \n",
    "    precision, recall, f1, _ = precision_recall_fscore_support(y_test_np, y_pred_np, average='binary')\n",
    "    accuracy = accuracy_score(y_test_np, y_pred_np)\n",
    "\n",
    "    # Printing the results:\n",
    "    print(f\"Precision: {precision}\")\n",
    "    print(f\"Recall: {recall}\")\n",
    "    print(f\"F1 Score: {f1}\")\n",
    "    print(f\"Accuracy: {accuracy}\")\n",
    "\n",
    "    # Visualization the results with Confusion Matrix:\n",
    "    cm = confusion_matrix(y_test_np, y_pred)\n",
    "    plt.figure(figsize=(6, 5))\n",
    "    sns.heatmap(cm, annot=True, fmt='d', cmap='Blues', xticklabels=[\"Negative\", \"Positive\"], yticklabels=[\"Negative\", \"Positive\"])\n",
    "    plt.title('Confusion Matrix')\n",
    "    plt.ylabel('Actual')\n",
    "    plt.xlabel('Predicted')\n",
    "    plt.show()\n",
    "\n",
    "evaluate_with_threshold(model, X_test, y_test, threshold=0.75)  # --------------> Change Threshold Value Here! <---------------"
   ]
  },
  {
   "cell_type": "markdown",
   "id": "b2e956c2-745a-4c68-a978-6aae9a87d8ed",
   "metadata": {},
   "source": [
    "# BALANCED RNN - LSTM"
   ]
  },
  {
   "cell_type": "code",
   "execution_count": 91,
   "id": "dff7f74b-f010-42f1-ae65-810d582a9743",
   "metadata": {},
   "outputs": [
    {
     "data": {
      "image/png": "[encoded data removed]",
      "text/plain": [
       "<Figure size 1200x600 with 2 Axes>"
      ]
     },
     "metadata": {},
     "output_type": "display_data"
    },
    {
     "name": "stdout",
     "output_type": "stream",
     "text": [
      "torch.Size([1364, 1, 768]) torch.Size([1364])\n",
      "torch.Size([342, 1, 768]) torch.Size([342])\n",
      "tensor([0, 1])\n",
      "tensor([0, 1])\n"
     ]
    }
   ],
   "source": [
    "# Defining the RNN Model.\n",
    "class RNNModel(nn.Module):\n",
    "    def __init__(self, input_dim, hidden_dim, output_dim):\n",
    "        super(RNNModel, self).__init__()\n",
    "        self.rnn = nn.LSTM(input_dim, hidden_dim, batch_first=True)\n",
    "        self.fc = nn.Linear(hidden_dim, output_dim)\n",
    "\n",
    "    def forward(self, x):\n",
    "        rnn_out, _ = self.rnn(x)\n",
    "        out = rnn_out[:, -1, :]\n",
    "        out = self.fc(out)\n",
    "        return out\n",
    "\n",
    "file_path = 'pre_sentiment_data.csv'\n",
    "df = pd.read_csv(file_path)\n",
    "\n",
    "MODEL_NAME = \"dbmdz/bert-base-turkish-cased\"\n",
    "tokenizer = BertTokenizer.from_pretrained(MODEL_NAME)\n",
    "model = BertModel.from_pretrained(MODEL_NAME)\n",
    "\n",
    "# Data preparation with BERT model.\n",
    "df[\"bert_embeddings\"] = df[\"text\"].apply(lambda x: get_average_embedding(x))\n",
    "sentiment_mapping = {\"pos\": 1, \"neg\": 0}\n",
    "df[\"sentiment\"] = df[\"sentiment\"].map(sentiment_mapping)\n",
    "X = torch.stack([torch.tensor(embed) for embed in df[\"bert_embeddings\"].values]).unsqueeze(1)\n",
    "y = torch.tensor(df[\"sentiment\"].values, dtype=torch.long)\n",
    "\n",
    "X_train, X_test, y_train, y_test = train_test_split(X, y, test_size=0.2, random_state=42)\n",
    "\n",
    "#-----------------------------------------------------------------------------------------------------#\n",
    "\n",
    "# Geting the indexes that come with X_train and X_test.\n",
    "train_indices, test_indices = train_test_split(df.index, test_size=0.2, random_state=42)\n",
    "\n",
    "# Separating the training and test data via df.\n",
    "df_train = df.loc[train_indices]\n",
    "df_test = df.loc[test_indices]\n",
    "original_distribution = df_train[\"sentiment\"].value_counts()\n",
    "\n",
    "# Balancing training data (oversampling with synthetic data).\n",
    "df_majority = df_train[df_train[\"sentiment\"] == 0]  # Negative Class\n",
    "df_minority = df_train[df_train[\"sentiment\"] == 1]  # Positive Class\n",
    "\n",
    "df_minority_oversampled = resample(\n",
    "    df_minority,\n",
    "    replace=True,\n",
    "    n_samples=len(df_majority),\n",
    "    random_state=42\n",
    ")\n",
    "\n",
    "# Merging the balanced dataset.\n",
    "df_balanced_train = pd.concat([df_majority, df_minority_oversampled])\n",
    "\n",
    "# Converting the balanced training data to Torch tensor.\n",
    "X_train_balanced = torch.stack([torch.tensor(embed) for embed in df_balanced_train[\"bert_embeddings\"].values])\n",
    "y_train_balanced = torch.tensor(df_balanced_train[\"sentiment\"].values, dtype=torch.long)\n",
    "\n",
    "# Visualizing the distribution of classes:\n",
    "def plot_class_distribution(original, balanced, labels=[\"Positive\", \"Negative\"]):\n",
    "    fig, axs = plt.subplots(1, 2, figsize=(12, 6))\n",
    "    \n",
    "    axs[0].pie(original, labels=labels, autopct='%1.1f%%', startangle=90, colors=[\"blue\", \"red\"])\n",
    "    axs[0].set_title(\"Original Class Distribution\")\n",
    "    \n",
    "    axs[1].pie(balanced, labels=labels, autopct='%1.1f%%', startangle=90, colors=[\"blue\", \"red\"])\n",
    "    axs[1].set_title(\"Balanced Class Distribution\")\n",
    "    \n",
    "    plt.show()\n",
    "\n",
    "original_counts = original_distribution.tolist()\n",
    "balanced_counts = df_balanced_train[\"sentiment\"].value_counts().tolist()\n",
    "plot_class_distribution(original_counts, balanced_counts)\n",
    "\n",
    "#-----------------------------------------------------------------------------------------------------#\n",
    "\n",
    "print(X_train.shape, y_train.shape)\n",
    "print(X_test.shape, y_test.shape)\n",
    "\n",
    "print(y_train.unique())\n",
    "print(y_test.unique())\n",
    "\n",
    "# Defining layers, model, loss & optimizer.\n",
    "input_dim = X_train.shape[2]\n",
    "hidden_dim = 128\n",
    "output_dim = 2\n",
    "model = RNNModel(input_dim, hidden_dim, output_dim)\n",
    "criterion = nn.CrossEntropyLoss()\n",
    "optimizer = optim.Adam(model.parameters(), lr=0.001)\n",
    "\n",
    "# Training the RNN model.\n",
    "def train_model(model, X_train, y_train, epochs=20, batch_size=32):\n",
    "    model.train()\n",
    "    for epoch in range(epochs):\n",
    "        for i in range(0, len(X_train), batch_size):\n",
    "            batch_X = X_train[i:i+batch_size]\n",
    "            batch_y = y_train[i:i+batch_size]\n",
    "            optimizer.zero_grad()\n",
    "            outputs = model(batch_X)\n",
    "            loss = criterion(outputs, batch_y)\n",
    "            loss.backward()\n",
    "            optimizer.step()\n",
    "        print(f'Epoch {epoch+1}/{epochs}, Loss: {loss.item()}')"
   ]
  },
  {
   "cell_type": "code",
   "execution_count": 92,
   "id": "aaaf712a-fb0d-49db-ac0c-772bb0b7005b",
   "metadata": {},
   "outputs": [
    {
     "name": "stdout",
     "output_type": "stream",
     "text": [
      "Epoch 1/20, Loss: 0.48190441727638245\n",
      "Epoch 2/20, Loss: 0.4167608320713043\n",
      "Epoch 3/20, Loss: 0.39203977584838867\n",
      "Epoch 4/20, Loss: 0.35054174065589905\n",
      "Epoch 5/20, Loss: 0.33566612005233765\n",
      "Epoch 6/20, Loss: 0.31948938965797424\n",
      "Epoch 7/20, Loss: 0.31133970618247986\n",
      "Epoch 8/20, Loss: 0.30285385251045227\n",
      "Epoch 9/20, Loss: 0.29282146692276\n",
      "Epoch 10/20, Loss: 0.27883824706077576\n",
      "Epoch 11/20, Loss: 0.2661007046699524\n",
      "Epoch 12/20, Loss: 0.2559424042701721\n",
      "Epoch 13/20, Loss: 0.24519725143909454\n",
      "Epoch 14/20, Loss: 0.23598650097846985\n",
      "Epoch 15/20, Loss: 0.231288343667984\n",
      "Epoch 16/20, Loss: 0.219254732131958\n",
      "Epoch 17/20, Loss: 0.21872758865356445\n",
      "Epoch 18/20, Loss: 0.20874500274658203\n",
      "Epoch 19/20, Loss: 0.1893395334482193\n",
      "Epoch 20/20, Loss: 0.17163074016571045\n"
     ]
    }
   ],
   "source": [
    "train_model(model, X_train, y_train)"
   ]
  },
  {
   "cell_type": "code",
   "execution_count": 98,
   "id": "46882be3-eafe-43a5-ae6a-f597517cae02",
   "metadata": {},
   "outputs": [
    {
     "name": "stdout",
     "output_type": "stream",
     "text": [
      "Precision: 0.8896103896103896\n",
      "Recall: 0.7696629213483146\n",
      "F1 Score: 0.8253012048192772\n",
      "Accuracy: 0.8304093567251462\n"
     ]
    },
    {
     "data": {
      "image/png": "[encoded data removed]",
      "text/plain": [
       "<Figure size 600x500 with 2 Axes>"
      ]
     },
     "metadata": {},
     "output_type": "display_data"
    }
   ],
   "source": [
    "# Evaluating the RNN model with Balanced Dataset:\n",
    "evaluate_with_threshold(model, X_test, y_test, threshold=0.73)  # --------------> Change Threshold Value Here! <---------------"
   ]
  },
  {
   "cell_type": "markdown",
   "id": "15ad837f-d7b3-4afb-8e6b-d1667113165f",
   "metadata": {},
   "source": [
    "# LOGISTIC REGRESSION CLASSIFICATION "
   ]
  },
  {
   "cell_type": "code",
   "execution_count": 38,
   "id": "9dd13099-4e5f-41d6-8206-c06ff7c99c35",
   "metadata": {},
   "outputs": [
    {
     "name": "stdout",
     "output_type": "stream",
     "text": [
      "Accuracy on the test set: 0.8216374269005848\n",
      "Precision: 0.916083916083916\n",
      "Recall: 0.7359550561797753\n",
      "F1 Score: 0.8161993769470405\n",
      "Accuracy: 0.827485380116959\n"
     ]
    },
    {
     "data": {
      "image/png": "[encoded data removed]",
      "text/plain": [
       "<Figure size 600x500 with 2 Axes>"
      ]
     },
     "metadata": {},
     "output_type": "display_data"
    }
   ],
   "source": [
    "file_path = 'pre_sentiment_data.csv'\n",
    "df = pd.read_csv(file_path)\n",
    "\n",
    "MODEL_NAME = \"dbmdz/bert-base-turkish-cased\"\n",
    "tokenizer = BertTokenizer.from_pretrained(MODEL_NAME)\n",
    "model = BertModel.from_pretrained(MODEL_NAME)\n",
    "\n",
    "# Data preparation with BERT model.\n",
    "df[\"bert_embeddings\"] = df[\"text\"].apply(lambda x: get_average_embedding(x))\n",
    "sentiment_mapping = {\"pos\": 1, \"neg\": 0}\n",
    "df[\"sentiment\"] = df[\"sentiment\"].map(sentiment_mapping)\n",
    "X = list(df[\"bert_embeddings\"]) \n",
    "y = torch.tensor(df[\"sentiment\"].values, dtype=torch.long)\n",
    "\n",
    "X_train, X_test, y_train, y_test = train_test_split(X, y, test_size=0.2, random_state=42)\n",
    "\n",
    "# Converting Train and Test sets to NumPy format.\n",
    "X_train_np = np.array(X_train)\n",
    "X_test_np = np.array(X_test)\n",
    "y_train_np = y_train.numpy()\n",
    "y_test_np = y_test.numpy()\n",
    "\n",
    "# Creating and training the Logistic Regression model:\n",
    "clf = LogisticRegression(max_iter=1000)\n",
    "clf.fit(X_train_np, y_train_np)\n",
    "\n",
    "# Evaluation on the test set\n",
    "y_pred = clf.predict(X_test_np)\n",
    "accuracy = accuracy_score(y_test.numpy(), y_pred)\n",
    "print(f\"Accuracy on the test set: {accuracy}\")\n",
    "\n",
    "#-----------------------------------------------------------------------------------------------------#\n",
    "\n",
    "# Evaluating the Logistic Regression model with the desired threshold value.\n",
    "threshold = 0.7 # --------------> Change Threshold Value Here! <---------------\n",
    "\n",
    "# Converting predictions to probability values for Logistic Regression.\n",
    "y_pred_prob = clf.predict_proba(X_test_np)[:, 1]\n",
    "y_pred_threshold = (y_pred_prob > threshold).astype(int)\n",
    "\n",
    "# Precision, Recall & F1 Score calculation.\n",
    "precision, recall, f1, _ = precision_recall_fscore_support(y_test_np, y_pred_threshold, average='binary')\n",
    "print(f\"Precision: {precision}\")\n",
    "print(f\"Recall: {recall}\")\n",
    "print(f\"F1 Score: {f1}\")\n",
    "\n",
    "# Accuracy calculation.\n",
    "accuracy = accuracy_score(y_test_np, y_pred_threshold)\n",
    "print(f\"Accuracy: {accuracy}\")\n",
    "\n",
    "# # Visualization the results with Confusion Matrix:\n",
    "cm = confusion_matrix(y_test_np, y_pred_threshold)\n",
    "plt.figure(figsize=(6, 5))\n",
    "sns.heatmap(cm, annot=True, fmt='d', cmap='Blues', xticklabels=[\"Negative\", \"Positive\"], yticklabels=[\"Negative\", \"Positive\"])\n",
    "plt.title('Confusion Matrix')\n",
    "plt.ylabel('Actual')\n",
    "plt.xlabel('Predicted')\n",
    "plt.show()"
   ]
  },
  {
   "cell_type": "code",
   "execution_count": null,
   "id": "b9e9ba9c-e05c-4d01-97f1-2067cf7af3d5",
   "metadata": {},
   "outputs": [],
   "source": []
  }
 ],
 "metadata": {
  "kernelspec": {
   "display_name": "Python 3 (ipykernel)",
   "language": "python",
   "name": "python3"
  },
  "language_info": {
   "codemirror_mode": {
    "name": "ipython",
    "version": 3
   },
   "file_extension": ".py",
   "mimetype": "text/x-python",
   "name": "python",
   "nbconvert_exporter": "python",
   "pygments_lexer": "ipython3",
   "version": "3.9.13"
  }
 },
 "nbformat": 4,
 "nbformat_minor": 5
}
